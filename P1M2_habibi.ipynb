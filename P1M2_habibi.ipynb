{
  "cells": [
    {
      "cell_type": "markdown",
      "metadata": {},
      "source": [
        "# **Perkenalan**\n",
        "\n",
        "=================================================\n",
        "\n",
        "Milestone 2\n",
        "\n",
        "Nama  : Habibi Bagus Suliano\n",
        "\n",
        "Batch : HCK-009\n",
        "\n",
        "\n",
        "================================================="
      ]
    },
    {
      "cell_type": "markdown",
      "metadata": {
        "id": "P3jCuzyylUZK"
      },
      "source": [
        "### **Prediksi Harga mobil**\n",
        "\n",
        "**Latar Belakang**:\n",
        "\n",
        "Penentuan harga mobil bekas sering kali menjadi sebuah tantangan sendiri. Pasalnya, ada banyak parameter yang harus dipertimbangkan seperti jarak tempuh, model mobil, dsb. yang kadang kala membuat penentuan harga tidak akurat sehingga kadangkala terlalu mahal atau terlalu murah. Jika terlalu mahal akan merugikan pembeli namun jika terlalu murah maka merugikan penjual. Untuk itu, dibutuhkan model agar dapat memprediksi harga mobil berdasarkan data yang ada."
      ]
    },
    {
      "cell_type": "markdown",
      "metadata": {},
      "source": [
        "#### **Informasi untuk setiap kolom**"
      ]
    },
    {
      "cell_type": "markdown",
      "metadata": {},
      "source": [
        "| No. | Nama Kolom | Deskripsi |\n",
        "|-----|----------- | --------- |\n",
        "|1|Id | Pengidentifikasi unik untuk setiap daftar mobil |\n",
        "|2|Price | Kisaran harga mobil, dengan label harga dan hitungan tertentu |\n",
        "|3|Company Name| Nama perusahaan manufaktur mobil, dengan persentase keterwakilan masing-masing perusahaan |\n",
        "|4|Model Name| Nama model mobil, dengan persentase representasi masing-masing model |\n",
        "|5|Model Year| Kisaran tahun pembuatan mobil, dengan jumlah dan persentase  |\n",
        "|6|Location| Lokasi mobil, menentukan wilayah di mana mobil tersebut tersedia untuk dibeli, beserta persentasenya |\n",
        "|7|Mileage| Informasi tentang jarak tempuh mobil, dengan rentang jarak tempuh, jumlah, dan persentase|\n",
        "|8|Engine Type | Deskripsi tipe mesin, dengan persentase untuk setiap tipe |\n",
        "|9|Engine Capacity | Kapasitas mesin berkisar dengan hitungan dan persentase |\n",
        "|10|Color | Distribusi warna mobil, dengan persentase untuk setiap warna |"
      ]
    },
    {
      "cell_type": "markdown",
      "metadata": {},
      "source": [
        "# **Import Libraries**"
      ]
    },
    {
      "cell_type": "code",
      "execution_count": 166,
      "metadata": {
        "id": "FwpF-6oXlSNJ"
      },
      "outputs": [],
      "source": [
        "import pandas as pd\n",
        "import seaborn as sns\n",
        "import matplotlib.pyplot as plt\n",
        "from scipy.stats import kendalltau\n",
        "import pickle \n",
        "import warnings\n",
        "from time import time\n",
        "\n",
        "# preprocessing\n",
        "from sklearn.model_selection import train_test_split\n",
        "from sklearn.preprocessing import StandardScaler, MinMaxScaler, RobustScaler, OrdinalEncoder, OneHotEncoder\n",
        "\n",
        "# model \n",
        "from sklearn.svm import SVR\n",
        "from sklearn.model_selection import cross_validate\n",
        "from sklearn.model_selection import RandomizedSearchCV\n",
        "from sklearn.compose import ColumnTransformer\n",
        "from sklearn.tree import DecisionTreeRegressor\n",
        "from sklearn.pipeline import Pipeline\n",
        "from sklearn.neighbors import KNeighborsRegressor\n",
        "from sklearn.svm import SVR\n",
        "from sklearn.ensemble import RandomForestRegressor, AdaBoostRegressor\n",
        "from sklearn.metrics import mean_absolute_error, r2_score, make_scorer"
      ]
    },
    {
      "cell_type": "markdown",
      "metadata": {},
      "source": [
        "# **Data Loading**"
      ]
    },
    {
      "cell_type": "code",
      "execution_count": 167,
      "metadata": {
        "colab": {
          "base_uri": "https://localhost:8080/",
          "height": 439
        },
        "id": "sNBUhFyjnVFs",
        "outputId": "399044f1-7dd6-4190-f631-e75b0a5bdd2c"
      },
      "outputs": [
        {
          "data": {
            "text/html": [
              "<div>\n",
              "<style scoped>\n",
              "    .dataframe tbody tr th:only-of-type {\n",
              "        vertical-align: middle;\n",
              "    }\n",
              "\n",
              "    .dataframe tbody tr th {\n",
              "        vertical-align: top;\n",
              "    }\n",
              "\n",
              "    .dataframe thead th {\n",
              "        text-align: right;\n",
              "    }\n",
              "</style>\n",
              "<table border=\"1\" class=\"dataframe\">\n",
              "  <thead>\n",
              "    <tr style=\"text-align: right;\">\n",
              "      <th></th>\n",
              "      <th>Unnamed: 0</th>\n",
              "      <th>Company Name</th>\n",
              "      <th>Model Name</th>\n",
              "      <th>Price</th>\n",
              "      <th>Model Year</th>\n",
              "      <th>Location</th>\n",
              "      <th>Mileage</th>\n",
              "      <th>Engine Type</th>\n",
              "      <th>Engine Capacity</th>\n",
              "      <th>Color</th>\n",
              "      <th>Assembly</th>\n",
              "      <th>Body Type</th>\n",
              "      <th>Transmission Type</th>\n",
              "      <th>Registration Status</th>\n",
              "    </tr>\n",
              "  </thead>\n",
              "  <tbody>\n",
              "    <tr>\n",
              "      <th>0</th>\n",
              "      <td>0</td>\n",
              "      <td>Toyota</td>\n",
              "      <td>Vitz</td>\n",
              "      <td>2385000</td>\n",
              "      <td>2017</td>\n",
              "      <td>Islamabad</td>\n",
              "      <td>9869</td>\n",
              "      <td>Petrol</td>\n",
              "      <td>1000</td>\n",
              "      <td>Silver</td>\n",
              "      <td>Imported</td>\n",
              "      <td>Hatchback</td>\n",
              "      <td>Automatic</td>\n",
              "      <td>Un-Registered</td>\n",
              "    </tr>\n",
              "    <tr>\n",
              "      <th>1</th>\n",
              "      <td>1</td>\n",
              "      <td>Toyota</td>\n",
              "      <td>Corolla</td>\n",
              "      <td>111000</td>\n",
              "      <td>2019</td>\n",
              "      <td>KPK</td>\n",
              "      <td>11111</td>\n",
              "      <td>Petrol</td>\n",
              "      <td>1300</td>\n",
              "      <td>White</td>\n",
              "      <td>Local</td>\n",
              "      <td>Sedan</td>\n",
              "      <td>Automatic</td>\n",
              "      <td>Registered</td>\n",
              "    </tr>\n",
              "    <tr>\n",
              "      <th>2</th>\n",
              "      <td>2</td>\n",
              "      <td>Suzuki</td>\n",
              "      <td>Alto</td>\n",
              "      <td>1530000</td>\n",
              "      <td>2019</td>\n",
              "      <td>KPK</td>\n",
              "      <td>17500</td>\n",
              "      <td>Petrol</td>\n",
              "      <td>660</td>\n",
              "      <td>White</td>\n",
              "      <td>Local</td>\n",
              "      <td>Hatchback</td>\n",
              "      <td>Automatic</td>\n",
              "      <td>Un-Registered</td>\n",
              "    </tr>\n",
              "    <tr>\n",
              "      <th>3</th>\n",
              "      <td>3</td>\n",
              "      <td>Suzuki</td>\n",
              "      <td>Alto</td>\n",
              "      <td>1650000</td>\n",
              "      <td>2019</td>\n",
              "      <td>Punjab</td>\n",
              "      <td>9600</td>\n",
              "      <td>Petrol</td>\n",
              "      <td>660</td>\n",
              "      <td>White</td>\n",
              "      <td>Local</td>\n",
              "      <td>Hatchback</td>\n",
              "      <td>Manual</td>\n",
              "      <td>Registered</td>\n",
              "    </tr>\n",
              "    <tr>\n",
              "      <th>4</th>\n",
              "      <td>4</td>\n",
              "      <td>Toyota</td>\n",
              "      <td>Corolla</td>\n",
              "      <td>1435000</td>\n",
              "      <td>2010</td>\n",
              "      <td>Islamabad</td>\n",
              "      <td>120000</td>\n",
              "      <td>Petrol</td>\n",
              "      <td>1300</td>\n",
              "      <td>Black</td>\n",
              "      <td>Local</td>\n",
              "      <td>Sedan</td>\n",
              "      <td>Manual</td>\n",
              "      <td>Registered</td>\n",
              "    </tr>\n",
              "    <tr>\n",
              "      <th>...</th>\n",
              "      <td>...</td>\n",
              "      <td>...</td>\n",
              "      <td>...</td>\n",
              "      <td>...</td>\n",
              "      <td>...</td>\n",
              "      <td>...</td>\n",
              "      <td>...</td>\n",
              "      <td>...</td>\n",
              "      <td>...</td>\n",
              "      <td>...</td>\n",
              "      <td>...</td>\n",
              "      <td>...</td>\n",
              "      <td>...</td>\n",
              "      <td>...</td>\n",
              "    </tr>\n",
              "    <tr>\n",
              "      <th>46017</th>\n",
              "      <td>46018</td>\n",
              "      <td>Honda</td>\n",
              "      <td>Vezel</td>\n",
              "      <td>3400000</td>\n",
              "      <td>2015</td>\n",
              "      <td>Punjab</td>\n",
              "      <td>32000</td>\n",
              "      <td>Petrol</td>\n",
              "      <td>1500</td>\n",
              "      <td>Black</td>\n",
              "      <td>Imported</td>\n",
              "      <td>Cross Over</td>\n",
              "      <td>Automatic</td>\n",
              "      <td>Un-Registered</td>\n",
              "    </tr>\n",
              "    <tr>\n",
              "      <th>46018</th>\n",
              "      <td>46019</td>\n",
              "      <td>Toyota</td>\n",
              "      <td>Aqua</td>\n",
              "      <td>2450000</td>\n",
              "      <td>2015</td>\n",
              "      <td>Punjab</td>\n",
              "      <td>52000</td>\n",
              "      <td>Petrol</td>\n",
              "      <td>1500</td>\n",
              "      <td>Blue</td>\n",
              "      <td>Imported</td>\n",
              "      <td>Hatchback</td>\n",
              "      <td>Automatic</td>\n",
              "      <td>Un-Registered</td>\n",
              "    </tr>\n",
              "    <tr>\n",
              "      <th>46019</th>\n",
              "      <td>46020</td>\n",
              "      <td>Honda</td>\n",
              "      <td>Civic</td>\n",
              "      <td>3250000</td>\n",
              "      <td>2015</td>\n",
              "      <td>Punjab</td>\n",
              "      <td>125000</td>\n",
              "      <td>Petrol</td>\n",
              "      <td>1800</td>\n",
              "      <td>Black</td>\n",
              "      <td>Local</td>\n",
              "      <td>Sedan</td>\n",
              "      <td>Automatic</td>\n",
              "      <td>Registered</td>\n",
              "    </tr>\n",
              "    <tr>\n",
              "      <th>46020</th>\n",
              "      <td>46021</td>\n",
              "      <td>Toyota</td>\n",
              "      <td>Aqua</td>\n",
              "      <td>3000000</td>\n",
              "      <td>2016</td>\n",
              "      <td>Punjab</td>\n",
              "      <td>60000</td>\n",
              "      <td>Petrol</td>\n",
              "      <td>1500</td>\n",
              "      <td>Black</td>\n",
              "      <td>Imported</td>\n",
              "      <td>Hatchback</td>\n",
              "      <td>Automatic</td>\n",
              "      <td>Registered</td>\n",
              "    </tr>\n",
              "    <tr>\n",
              "      <th>46021</th>\n",
              "      <td>46022</td>\n",
              "      <td>Toyota</td>\n",
              "      <td>Corolla</td>\n",
              "      <td>2250000</td>\n",
              "      <td>2015</td>\n",
              "      <td>Punjab</td>\n",
              "      <td>77000</td>\n",
              "      <td>Petrol</td>\n",
              "      <td>1300</td>\n",
              "      <td>Assembly</td>\n",
              "      <td>Local</td>\n",
              "      <td>Sedan</td>\n",
              "      <td>Automatic</td>\n",
              "      <td>Registered</td>\n",
              "    </tr>\n",
              "  </tbody>\n",
              "</table>\n",
              "<p>46022 rows × 14 columns</p>\n",
              "</div>"
            ],
            "text/plain": [
              "       Unnamed: 0 Company Name Model Name    Price  Model Year   Location  \\\n",
              "0               0       Toyota       Vitz  2385000        2017  Islamabad   \n",
              "1               1       Toyota    Corolla   111000        2019        KPK   \n",
              "2               2       Suzuki       Alto  1530000        2019        KPK   \n",
              "3               3       Suzuki       Alto  1650000        2019     Punjab   \n",
              "4               4       Toyota    Corolla  1435000        2010  Islamabad   \n",
              "...           ...          ...        ...      ...         ...        ...   \n",
              "46017       46018        Honda      Vezel  3400000        2015     Punjab   \n",
              "46018       46019       Toyota       Aqua  2450000        2015     Punjab   \n",
              "46019       46020        Honda      Civic  3250000        2015     Punjab   \n",
              "46020       46021       Toyota       Aqua  3000000        2016     Punjab   \n",
              "46021       46022       Toyota    Corolla  2250000        2015     Punjab   \n",
              "\n",
              "       Mileage Engine Type  Engine Capacity     Color  Assembly   Body Type  \\\n",
              "0         9869      Petrol             1000    Silver  Imported   Hatchback   \n",
              "1        11111      Petrol             1300     White     Local       Sedan   \n",
              "2        17500      Petrol              660     White     Local   Hatchback   \n",
              "3         9600      Petrol              660     White     Local   Hatchback   \n",
              "4       120000      Petrol             1300     Black     Local       Sedan   \n",
              "...        ...         ...              ...       ...       ...         ...   \n",
              "46017    32000      Petrol             1500     Black  Imported  Cross Over   \n",
              "46018    52000      Petrol             1500      Blue  Imported   Hatchback   \n",
              "46019   125000      Petrol             1800     Black     Local       Sedan   \n",
              "46020    60000      Petrol             1500     Black  Imported   Hatchback   \n",
              "46021    77000      Petrol             1300  Assembly     Local       Sedan   \n",
              "\n",
              "      Transmission Type Registration Status  \n",
              "0             Automatic       Un-Registered  \n",
              "1             Automatic          Registered  \n",
              "2             Automatic       Un-Registered  \n",
              "3                Manual          Registered  \n",
              "4                Manual          Registered  \n",
              "...                 ...                 ...  \n",
              "46017         Automatic       Un-Registered  \n",
              "46018         Automatic       Un-Registered  \n",
              "46019         Automatic          Registered  \n",
              "46020         Automatic          Registered  \n",
              "46021         Automatic          Registered  \n",
              "\n",
              "[46022 rows x 14 columns]"
            ]
          },
          "execution_count": 167,
          "metadata": {},
          "output_type": "execute_result"
        }
      ],
      "source": [
        "data = pd.read_csv('car_prices.csv')\n",
        "data"
      ]
    },
    {
      "cell_type": "code",
      "execution_count": 168,
      "metadata": {},
      "outputs": [],
      "source": [
        "# menghapus kolom dengan nama 'Unnamed: 0' dari DataFrame\n",
        "del data['Unnamed: 0']"
      ]
    },
    {
      "cell_type": "markdown",
      "metadata": {
        "id": "ZpPB2it-pCrL"
      },
      "source": [
        "Menghapus kolom unnamed 0 dikarenakan kolom itu tidak berguna maka saya akan hapus"
      ]
    },
    {
      "cell_type": "code",
      "execution_count": 169,
      "metadata": {
        "colab": {
          "base_uri": "https://localhost:8080/"
        },
        "id": "rLDtrkG2pAot",
        "outputId": "88154117-3ae7-4e45-968e-93a3c7bce4e6"
      },
      "outputs": [
        {
          "name": "stdout",
          "output_type": "stream",
          "text": [
            "<class 'pandas.core.frame.DataFrame'>\n",
            "RangeIndex: 46022 entries, 0 to 46021\n",
            "Data columns (total 13 columns):\n",
            " #   Column               Non-Null Count  Dtype \n",
            "---  ------               --------------  ----- \n",
            " 0   Company Name         46022 non-null  object\n",
            " 1   Model Name           46022 non-null  object\n",
            " 2   Price                46022 non-null  int64 \n",
            " 3   Model Year           46022 non-null  int64 \n",
            " 4   Location             46022 non-null  object\n",
            " 5   Mileage              46022 non-null  int64 \n",
            " 6   Engine Type          46022 non-null  object\n",
            " 7   Engine Capacity      46022 non-null  int64 \n",
            " 8   Color                46022 non-null  object\n",
            " 9   Assembly             46022 non-null  object\n",
            " 10  Body Type            46022 non-null  object\n",
            " 11  Transmission Type    46022 non-null  object\n",
            " 12  Registration Status  46022 non-null  object\n",
            "dtypes: int64(4), object(9)\n",
            "memory usage: 4.6+ MB\n"
          ]
        }
      ],
      "source": [
        "data.info()"
      ]
    },
    {
      "cell_type": "markdown",
      "metadata": {
        "id": "R6XEFjYjpg1l"
      },
      "source": [
        "Tidak ada missing values pada data, paling tidak berdasarkan dari apa yang terlihat dan terbaca oleh Pandas."
      ]
    },
    {
      "cell_type": "code",
      "execution_count": 170,
      "metadata": {
        "colab": {
          "base_uri": "https://localhost:8080/",
          "height": 317
        },
        "id": "UKNUAAeRzBti",
        "outputId": "ad9cc25b-5ad0-4b24-9a91-a669719f9c85"
      },
      "outputs": [
        {
          "data": {
            "text/html": [
              "<div>\n",
              "<style scoped>\n",
              "    .dataframe tbody tr th:only-of-type {\n",
              "        vertical-align: middle;\n",
              "    }\n",
              "\n",
              "    .dataframe tbody tr th {\n",
              "        vertical-align: top;\n",
              "    }\n",
              "\n",
              "    .dataframe thead th {\n",
              "        text-align: right;\n",
              "    }\n",
              "</style>\n",
              "<table border=\"1\" class=\"dataframe\">\n",
              "  <thead>\n",
              "    <tr style=\"text-align: right;\">\n",
              "      <th></th>\n",
              "      <th>Price</th>\n",
              "      <th>Model Year</th>\n",
              "      <th>Mileage</th>\n",
              "      <th>Engine Capacity</th>\n",
              "    </tr>\n",
              "  </thead>\n",
              "  <tbody>\n",
              "    <tr>\n",
              "      <th>count</th>\n",
              "      <td>4.602200e+04</td>\n",
              "      <td>46022.000000</td>\n",
              "      <td>46022.000000</td>\n",
              "      <td>46022.000000</td>\n",
              "    </tr>\n",
              "    <tr>\n",
              "      <th>mean</th>\n",
              "      <td>2.014153e+06</td>\n",
              "      <td>2011.035374</td>\n",
              "      <td>90965.128243</td>\n",
              "      <td>1313.115575</td>\n",
              "    </tr>\n",
              "    <tr>\n",
              "      <th>std</th>\n",
              "      <td>2.939071e+06</td>\n",
              "      <td>6.399403</td>\n",
              "      <td>63656.656034</td>\n",
              "      <td>614.690832</td>\n",
              "    </tr>\n",
              "    <tr>\n",
              "      <th>min</th>\n",
              "      <td>1.110000e+05</td>\n",
              "      <td>1990.000000</td>\n",
              "      <td>1.000000</td>\n",
              "      <td>16.000000</td>\n",
              "    </tr>\n",
              "    <tr>\n",
              "      <th>25%</th>\n",
              "      <td>8.500000e+05</td>\n",
              "      <td>2007.000000</td>\n",
              "      <td>48899.500000</td>\n",
              "      <td>1000.000000</td>\n",
              "    </tr>\n",
              "    <tr>\n",
              "      <th>50%</th>\n",
              "      <td>1.450000e+06</td>\n",
              "      <td>2013.000000</td>\n",
              "      <td>80000.000000</td>\n",
              "      <td>1300.000000</td>\n",
              "    </tr>\n",
              "    <tr>\n",
              "      <th>75%</th>\n",
              "      <td>2.300000e+06</td>\n",
              "      <td>2016.000000</td>\n",
              "      <td>120000.000000</td>\n",
              "      <td>1500.000000</td>\n",
              "    </tr>\n",
              "    <tr>\n",
              "      <th>max</th>\n",
              "      <td>7.750000e+07</td>\n",
              "      <td>2019.000000</td>\n",
              "      <td>999999.000000</td>\n",
              "      <td>6600.000000</td>\n",
              "    </tr>\n",
              "  </tbody>\n",
              "</table>\n",
              "</div>"
            ],
            "text/plain": [
              "              Price    Model Year        Mileage  Engine Capacity\n",
              "count  4.602200e+04  46022.000000   46022.000000     46022.000000\n",
              "mean   2.014153e+06   2011.035374   90965.128243      1313.115575\n",
              "std    2.939071e+06      6.399403   63656.656034       614.690832\n",
              "min    1.110000e+05   1990.000000       1.000000        16.000000\n",
              "25%    8.500000e+05   2007.000000   48899.500000      1000.000000\n",
              "50%    1.450000e+06   2013.000000   80000.000000      1300.000000\n",
              "75%    2.300000e+06   2016.000000  120000.000000      1500.000000\n",
              "max    7.750000e+07   2019.000000  999999.000000      6600.000000"
            ]
          },
          "execution_count": 170,
          "metadata": {},
          "output_type": "execute_result"
        }
      ],
      "source": [
        "data.describe()"
      ]
    },
    {
      "cell_type": "code",
      "execution_count": 187,
      "metadata": {},
      "outputs": [
        {
          "data": {
            "text/plain": [
              "815"
            ]
          },
          "execution_count": 187,
          "metadata": {},
          "output_type": "execute_result"
        }
      ],
      "source": [
        "data.duplicated().sum()"
      ]
    },
    {
      "cell_type": "markdown",
      "metadata": {},
      "source": [
        "setelah di cek ada data duplicate dan saya akan menghilangkan data yang duplicate"
      ]
    },
    {
      "cell_type": "code",
      "execution_count": 189,
      "metadata": {},
      "outputs": [],
      "source": [
        "data.drop_duplicates(inplace=True)"
      ]
    },
    {
      "cell_type": "code",
      "execution_count": 235,
      "metadata": {},
      "outputs": [
        {
          "name": "stdout",
          "output_type": "stream",
          "text": [
            "data duplicate : 0\n"
          ]
        }
      ],
      "source": [
        "print('data duplicate :',data.duplicated().sum())"
      ]
    },
    {
      "cell_type": "markdown",
      "metadata": {},
      "source": [
        "seperti terlihat diatas data dplicate sudah tidak ada"
      ]
    },
    {
      "cell_type": "markdown",
      "metadata": {},
      "source": [
        "# **Exploratory Data Analysis (EDA)**"
      ]
    },
    {
      "cell_type": "markdown",
      "metadata": {},
      "source": [
        "#### **Number of records related to year of the car bought**"
      ]
    },
    {
      "cell_type": "code",
      "execution_count": 191,
      "metadata": {},
      "outputs": [
        {
          "data": {
            "image/png": "[encoded data removed]",
            "text/plain": [
              "<Figure size 1000x600 with 1 Axes>"
            ]
          },
          "metadata": {},
          "output_type": "display_data"
        }
      ],
      "source": [
        "# Number of records related to year of the car bought\n",
        "plt.figure(figsize = (10, 6))\n",
        "ax=sns.countplot(data=data, x=data['Model Year'])\n",
        "sns.set_style('darkgrid')\n",
        "for cont in ax.containers:\n",
        "    ax.bar_label(cont)\n",
        "plt.title('Number of records related to year of the car bought', size=10)\n",
        "plt.yticks(size=8)\n",
        "plt.xticks(size=8)\n",
        "plt.grid(linestyle='-')\n"
      ]
    },
    {
      "cell_type": "markdown",
      "metadata": {},
      "source": [
        "dilihat dari hasil visualisasi diatas tahun 2017 adalah tahun paling banyak orang membeli mobil"
      ]
    },
    {
      "cell_type": "markdown",
      "metadata": {},
      "source": [
        "#### **korelasi antara harga dan mileage**"
      ]
    },
    {
      "cell_type": "code",
      "execution_count": 192,
      "metadata": {},
      "outputs": [
        {
          "data": {
            "image/png": "[encoded data removed]",
            "text/plain": [
              "<Figure size 900x700 with 1 Axes>"
            ]
          },
          "metadata": {},
          "output_type": "display_data"
        }
      ],
      "source": [
        "# Create scatter plots to visualize the relationships between pairs of numerical values\n",
        "data.plot(kind='scatter', x='Mileage', y='Price', figsize=(9, 7))\n",
        "plt.show()"
      ]
    },
    {
      "cell_type": "markdown",
      "metadata": {},
      "source": [
        "ternyata mileage mempengaruhi harga dilihat diatas bahwa kebanyakan mileage yang dikit mendapatkan harga yang tinggi"
      ]
    },
    {
      "cell_type": "markdown",
      "metadata": {},
      "source": [
        "#### **korelasi antara harga dan engine capacity**"
      ]
    },
    {
      "cell_type": "code",
      "execution_count": 193,
      "metadata": {},
      "outputs": [
        {
          "data": {
            "image/png": "[encoded data removed]",
            "text/plain": [
              "<Figure size 900x700 with 1 Axes>"
            ]
          },
          "metadata": {},
          "output_type": "display_data"
        }
      ],
      "source": [
        "data.plot(kind='scatter', x='Engine Capacity', y='Price', figsize=(9, 7))\n",
        "plt.show()"
      ]
    },
    {
      "cell_type": "markdown",
      "metadata": {},
      "source": [
        "dilihat dari visualisai bahwa engine capacity mempengaruhi harga semakin tinggi engine capacitynya harga juga akan semakin tinggi"
      ]
    },
    {
      "cell_type": "markdown",
      "metadata": {},
      "source": [
        "#### **Menampilkan company name yang paling banyak muncul**"
      ]
    },
    {
      "cell_type": "code",
      "execution_count": 194,
      "metadata": {},
      "outputs": [
        {
          "data": {
            "image/png": "[encoded data removed]",
            "text/plain": [
              "<Figure size 640x480 with 1 Axes>"
            ]
          },
          "metadata": {},
          "output_type": "display_data"
        }
      ],
      "source": [
        "# Create a bar chart to visualize the frequency of categorical values\n",
        "data['Company Name'].value_counts().plot(kind='bar')\n",
        "plt.show()"
      ]
    },
    {
      "cell_type": "markdown",
      "metadata": {},
      "source": [
        "terlihat bahwa paling banyak nama perusahaan yang selalu muncul namanya adalah suzuki"
      ]
    },
    {
      "cell_type": "markdown",
      "metadata": {},
      "source": [
        "#### **Menampilkan body type yang paling banyak muncul**"
      ]
    },
    {
      "cell_type": "code",
      "execution_count": 195,
      "metadata": {},
      "outputs": [
        {
          "data": {
            "image/png": "[encoded data removed]",
            "text/plain": [
              "<Figure size 640x480 with 1 Axes>"
            ]
          },
          "metadata": {},
          "output_type": "display_data"
        }
      ],
      "source": [
        "# Create a bar chart to visualize the frequency of categorical values\n",
        "data['Body Type'].value_counts().plot(kind='bar')\n",
        "plt.show()"
      ]
    },
    {
      "cell_type": "markdown",
      "metadata": {},
      "source": [
        "terlihat dari data visualisasi body type yang paling banyak dipilih adalah hatchback"
      ]
    },
    {
      "cell_type": "markdown",
      "metadata": {},
      "source": [
        "#### **harga jual tiap tahun**"
      ]
    },
    {
      "cell_type": "code",
      "execution_count": 196,
      "metadata": {},
      "outputs": [
        {
          "data": {
            "image/png": "[encoded data removed]",
            "text/plain": [
              "<Figure size 640x480 with 1 Axes>"
            ]
          },
          "metadata": {},
          "output_type": "display_data"
        }
      ],
      "source": [
        "# plotting the target-year scatter graph\n",
        "sns.scatterplot(data=data, x=\"Model Year\", y=\"Price\")\n",
        "sns.set_style('darkgrid')\n",
        "plt.title(\"Selling price per year\", size=10)\n",
        "plt.ylabel(\"Selling price (Thousand bucks)\", size=8)\n",
        "plt.xlabel(\"Year\", size=8)\n",
        "plt.show()"
      ]
    },
    {
      "cell_type": "markdown",
      "metadata": {},
      "source": [
        "keluaran tahun mobil mempengaruhi harga dilihat dari scatterplot bahwa semakin mobil itu keluaran terbaru maka harga semakin tinggi"
      ]
    },
    {
      "cell_type": "markdown",
      "metadata": {},
      "source": [
        "#### **Jumlah Kendaraan Berdasarkan Transmission Type**"
      ]
    },
    {
      "cell_type": "code",
      "execution_count": 197,
      "metadata": {},
      "outputs": [
        {
          "data": {
            "image/png": "[encoded data removed]",
            "text/plain": [
              "<Figure size 800x600 with 1 Axes>"
            ]
          },
          "metadata": {},
          "output_type": "display_data"
        }
      ],
      "source": [
        "\n",
        "plt.figure(figsize=(8, 6))\n",
        "\n",
        "# Menampilkan Transmission Type dengan Seaborn\n",
        "sns.countplot(data=data, x='Transmission Type', palette='viridis')\n",
        "plt.title('Jumlah Kendaraan Berdasarkan Transmission Type')\n",
        "plt.xlabel('Transmission Type')\n",
        "plt.ylabel('Jumlah Kendaraan')\n",
        "plt.xticks(rotation=0)  # Untuk memutar label x jika diperlukan\n",
        "\n",
        "plt.show()"
      ]
    },
    {
      "cell_type": "markdown",
      "metadata": {},
      "source": [
        "terlihat lebih banyak kendaran manual daripada automatic"
      ]
    },
    {
      "cell_type": "markdown",
      "metadata": {},
      "source": [
        "# **Feature Engineering**"
      ]
    },
    {
      "cell_type": "markdown",
      "metadata": {},
      "source": [
        "memisahkan kolom numerikal dan kategorikal"
      ]
    },
    {
      "cell_type": "code",
      "execution_count": 198,
      "metadata": {},
      "outputs": [
        {
          "data": {
            "text/plain": [
              "['Company Name',\n",
              " 'Model Name',\n",
              " 'Location',\n",
              " 'Engine Type',\n",
              " 'Color',\n",
              " 'Assembly',\n",
              " 'Body Type',\n",
              " 'Transmission Type',\n",
              " 'Registration Status']"
            ]
          },
          "execution_count": 198,
          "metadata": {},
          "output_type": "execute_result"
        }
      ],
      "source": [
        "cat_cols = data.select_dtypes(include=['object']).columns.tolist()\n",
        "cat_cols"
      ]
    },
    {
      "cell_type": "code",
      "execution_count": 199,
      "metadata": {},
      "outputs": [
        {
          "data": {
            "text/html": [
              "<div>\n",
              "<style scoped>\n",
              "    .dataframe tbody tr th:only-of-type {\n",
              "        vertical-align: middle;\n",
              "    }\n",
              "\n",
              "    .dataframe tbody tr th {\n",
              "        vertical-align: top;\n",
              "    }\n",
              "\n",
              "    .dataframe thead th {\n",
              "        text-align: right;\n",
              "    }\n",
              "</style>\n",
              "<table border=\"1\" class=\"dataframe\">\n",
              "  <thead>\n",
              "    <tr style=\"text-align: right;\">\n",
              "      <th></th>\n",
              "      <th>Company Name</th>\n",
              "      <th>Model Name</th>\n",
              "      <th>Location</th>\n",
              "      <th>Engine Type</th>\n",
              "      <th>Color</th>\n",
              "      <th>Assembly</th>\n",
              "      <th>Body Type</th>\n",
              "      <th>Transmission Type</th>\n",
              "      <th>Registration Status</th>\n",
              "    </tr>\n",
              "  </thead>\n",
              "  <tbody>\n",
              "    <tr>\n",
              "      <th>0</th>\n",
              "      <td>Toyota</td>\n",
              "      <td>Vitz</td>\n",
              "      <td>Islamabad</td>\n",
              "      <td>Petrol</td>\n",
              "      <td>Silver</td>\n",
              "      <td>Imported</td>\n",
              "      <td>Hatchback</td>\n",
              "      <td>Automatic</td>\n",
              "      <td>Un-Registered</td>\n",
              "    </tr>\n",
              "    <tr>\n",
              "      <th>1</th>\n",
              "      <td>Toyota</td>\n",
              "      <td>Corolla</td>\n",
              "      <td>KPK</td>\n",
              "      <td>Petrol</td>\n",
              "      <td>White</td>\n",
              "      <td>Local</td>\n",
              "      <td>Sedan</td>\n",
              "      <td>Automatic</td>\n",
              "      <td>Registered</td>\n",
              "    </tr>\n",
              "    <tr>\n",
              "      <th>2</th>\n",
              "      <td>Suzuki</td>\n",
              "      <td>Alto</td>\n",
              "      <td>KPK</td>\n",
              "      <td>Petrol</td>\n",
              "      <td>White</td>\n",
              "      <td>Local</td>\n",
              "      <td>Hatchback</td>\n",
              "      <td>Automatic</td>\n",
              "      <td>Un-Registered</td>\n",
              "    </tr>\n",
              "    <tr>\n",
              "      <th>3</th>\n",
              "      <td>Suzuki</td>\n",
              "      <td>Alto</td>\n",
              "      <td>Punjab</td>\n",
              "      <td>Petrol</td>\n",
              "      <td>White</td>\n",
              "      <td>Local</td>\n",
              "      <td>Hatchback</td>\n",
              "      <td>Manual</td>\n",
              "      <td>Registered</td>\n",
              "    </tr>\n",
              "    <tr>\n",
              "      <th>4</th>\n",
              "      <td>Toyota</td>\n",
              "      <td>Corolla</td>\n",
              "      <td>Islamabad</td>\n",
              "      <td>Petrol</td>\n",
              "      <td>Black</td>\n",
              "      <td>Local</td>\n",
              "      <td>Sedan</td>\n",
              "      <td>Manual</td>\n",
              "      <td>Registered</td>\n",
              "    </tr>\n",
              "    <tr>\n",
              "      <th>...</th>\n",
              "      <td>...</td>\n",
              "      <td>...</td>\n",
              "      <td>...</td>\n",
              "      <td>...</td>\n",
              "      <td>...</td>\n",
              "      <td>...</td>\n",
              "      <td>...</td>\n",
              "      <td>...</td>\n",
              "      <td>...</td>\n",
              "    </tr>\n",
              "    <tr>\n",
              "      <th>46017</th>\n",
              "      <td>Honda</td>\n",
              "      <td>Vezel</td>\n",
              "      <td>Punjab</td>\n",
              "      <td>Petrol</td>\n",
              "      <td>Black</td>\n",
              "      <td>Imported</td>\n",
              "      <td>Cross Over</td>\n",
              "      <td>Automatic</td>\n",
              "      <td>Un-Registered</td>\n",
              "    </tr>\n",
              "    <tr>\n",
              "      <th>46018</th>\n",
              "      <td>Toyota</td>\n",
              "      <td>Aqua</td>\n",
              "      <td>Punjab</td>\n",
              "      <td>Petrol</td>\n",
              "      <td>Blue</td>\n",
              "      <td>Imported</td>\n",
              "      <td>Hatchback</td>\n",
              "      <td>Automatic</td>\n",
              "      <td>Un-Registered</td>\n",
              "    </tr>\n",
              "    <tr>\n",
              "      <th>46019</th>\n",
              "      <td>Honda</td>\n",
              "      <td>Civic</td>\n",
              "      <td>Punjab</td>\n",
              "      <td>Petrol</td>\n",
              "      <td>Black</td>\n",
              "      <td>Local</td>\n",
              "      <td>Sedan</td>\n",
              "      <td>Automatic</td>\n",
              "      <td>Registered</td>\n",
              "    </tr>\n",
              "    <tr>\n",
              "      <th>46020</th>\n",
              "      <td>Toyota</td>\n",
              "      <td>Aqua</td>\n",
              "      <td>Punjab</td>\n",
              "      <td>Petrol</td>\n",
              "      <td>Black</td>\n",
              "      <td>Imported</td>\n",
              "      <td>Hatchback</td>\n",
              "      <td>Automatic</td>\n",
              "      <td>Registered</td>\n",
              "    </tr>\n",
              "    <tr>\n",
              "      <th>46021</th>\n",
              "      <td>Toyota</td>\n",
              "      <td>Corolla</td>\n",
              "      <td>Punjab</td>\n",
              "      <td>Petrol</td>\n",
              "      <td>Assembly</td>\n",
              "      <td>Local</td>\n",
              "      <td>Sedan</td>\n",
              "      <td>Automatic</td>\n",
              "      <td>Registered</td>\n",
              "    </tr>\n",
              "  </tbody>\n",
              "</table>\n",
              "<p>45207 rows × 9 columns</p>\n",
              "</div>"
            ],
            "text/plain": [
              "      Company Name Model Name   Location Engine Type     Color  Assembly  \\\n",
              "0           Toyota       Vitz  Islamabad      Petrol    Silver  Imported   \n",
              "1           Toyota    Corolla        KPK      Petrol     White     Local   \n",
              "2           Suzuki       Alto        KPK      Petrol     White     Local   \n",
              "3           Suzuki       Alto     Punjab      Petrol     White     Local   \n",
              "4           Toyota    Corolla  Islamabad      Petrol     Black     Local   \n",
              "...            ...        ...        ...         ...       ...       ...   \n",
              "46017        Honda      Vezel     Punjab      Petrol     Black  Imported   \n",
              "46018       Toyota       Aqua     Punjab      Petrol      Blue  Imported   \n",
              "46019        Honda      Civic     Punjab      Petrol     Black     Local   \n",
              "46020       Toyota       Aqua     Punjab      Petrol     Black  Imported   \n",
              "46021       Toyota    Corolla     Punjab      Petrol  Assembly     Local   \n",
              "\n",
              "        Body Type Transmission Type Registration Status  \n",
              "0       Hatchback         Automatic       Un-Registered  \n",
              "1           Sedan         Automatic          Registered  \n",
              "2       Hatchback         Automatic       Un-Registered  \n",
              "3       Hatchback            Manual          Registered  \n",
              "4           Sedan            Manual          Registered  \n",
              "...           ...               ...                 ...  \n",
              "46017  Cross Over         Automatic       Un-Registered  \n",
              "46018   Hatchback         Automatic       Un-Registered  \n",
              "46019       Sedan         Automatic          Registered  \n",
              "46020   Hatchback         Automatic          Registered  \n",
              "46021       Sedan         Automatic          Registered  \n",
              "\n",
              "[45207 rows x 9 columns]"
            ]
          },
          "execution_count": 199,
          "metadata": {},
          "output_type": "execute_result"
        }
      ],
      "source": [
        "cat_dt = data[cat_cols]\n",
        "cat_dt"
      ]
    },
    {
      "cell_type": "code",
      "execution_count": 200,
      "metadata": {},
      "outputs": [
        {
          "data": {
            "text/html": [
              "<div>\n",
              "<style scoped>\n",
              "    .dataframe tbody tr th:only-of-type {\n",
              "        vertical-align: middle;\n",
              "    }\n",
              "\n",
              "    .dataframe tbody tr th {\n",
              "        vertical-align: top;\n",
              "    }\n",
              "\n",
              "    .dataframe thead th {\n",
              "        text-align: right;\n",
              "    }\n",
              "</style>\n",
              "<table border=\"1\" class=\"dataframe\">\n",
              "  <thead>\n",
              "    <tr style=\"text-align: right;\">\n",
              "      <th></th>\n",
              "      <th>Company Name</th>\n",
              "      <th>Model Name</th>\n",
              "      <th>Location</th>\n",
              "      <th>Engine Type</th>\n",
              "      <th>Color</th>\n",
              "      <th>Assembly</th>\n",
              "      <th>Body Type</th>\n",
              "      <th>Transmission Type</th>\n",
              "      <th>Registration Status</th>\n",
              "      <th>Price</th>\n",
              "    </tr>\n",
              "  </thead>\n",
              "  <tbody>\n",
              "    <tr>\n",
              "      <th>0</th>\n",
              "      <td>Toyota</td>\n",
              "      <td>Vitz</td>\n",
              "      <td>Islamabad</td>\n",
              "      <td>Petrol</td>\n",
              "      <td>Silver</td>\n",
              "      <td>Imported</td>\n",
              "      <td>Hatchback</td>\n",
              "      <td>Automatic</td>\n",
              "      <td>Un-Registered</td>\n",
              "      <td>2385000</td>\n",
              "    </tr>\n",
              "    <tr>\n",
              "      <th>1</th>\n",
              "      <td>Toyota</td>\n",
              "      <td>Corolla</td>\n",
              "      <td>KPK</td>\n",
              "      <td>Petrol</td>\n",
              "      <td>White</td>\n",
              "      <td>Local</td>\n",
              "      <td>Sedan</td>\n",
              "      <td>Automatic</td>\n",
              "      <td>Registered</td>\n",
              "      <td>111000</td>\n",
              "    </tr>\n",
              "    <tr>\n",
              "      <th>2</th>\n",
              "      <td>Suzuki</td>\n",
              "      <td>Alto</td>\n",
              "      <td>KPK</td>\n",
              "      <td>Petrol</td>\n",
              "      <td>White</td>\n",
              "      <td>Local</td>\n",
              "      <td>Hatchback</td>\n",
              "      <td>Automatic</td>\n",
              "      <td>Un-Registered</td>\n",
              "      <td>1530000</td>\n",
              "    </tr>\n",
              "    <tr>\n",
              "      <th>3</th>\n",
              "      <td>Suzuki</td>\n",
              "      <td>Alto</td>\n",
              "      <td>Punjab</td>\n",
              "      <td>Petrol</td>\n",
              "      <td>White</td>\n",
              "      <td>Local</td>\n",
              "      <td>Hatchback</td>\n",
              "      <td>Manual</td>\n",
              "      <td>Registered</td>\n",
              "      <td>1650000</td>\n",
              "    </tr>\n",
              "    <tr>\n",
              "      <th>4</th>\n",
              "      <td>Toyota</td>\n",
              "      <td>Corolla</td>\n",
              "      <td>Islamabad</td>\n",
              "      <td>Petrol</td>\n",
              "      <td>Black</td>\n",
              "      <td>Local</td>\n",
              "      <td>Sedan</td>\n",
              "      <td>Manual</td>\n",
              "      <td>Registered</td>\n",
              "      <td>1435000</td>\n",
              "    </tr>\n",
              "    <tr>\n",
              "      <th>...</th>\n",
              "      <td>...</td>\n",
              "      <td>...</td>\n",
              "      <td>...</td>\n",
              "      <td>...</td>\n",
              "      <td>...</td>\n",
              "      <td>...</td>\n",
              "      <td>...</td>\n",
              "      <td>...</td>\n",
              "      <td>...</td>\n",
              "      <td>...</td>\n",
              "    </tr>\n",
              "    <tr>\n",
              "      <th>46017</th>\n",
              "      <td>Honda</td>\n",
              "      <td>Vezel</td>\n",
              "      <td>Punjab</td>\n",
              "      <td>Petrol</td>\n",
              "      <td>Black</td>\n",
              "      <td>Imported</td>\n",
              "      <td>Cross Over</td>\n",
              "      <td>Automatic</td>\n",
              "      <td>Un-Registered</td>\n",
              "      <td>3400000</td>\n",
              "    </tr>\n",
              "    <tr>\n",
              "      <th>46018</th>\n",
              "      <td>Toyota</td>\n",
              "      <td>Aqua</td>\n",
              "      <td>Punjab</td>\n",
              "      <td>Petrol</td>\n",
              "      <td>Blue</td>\n",
              "      <td>Imported</td>\n",
              "      <td>Hatchback</td>\n",
              "      <td>Automatic</td>\n",
              "      <td>Un-Registered</td>\n",
              "      <td>2450000</td>\n",
              "    </tr>\n",
              "    <tr>\n",
              "      <th>46019</th>\n",
              "      <td>Honda</td>\n",
              "      <td>Civic</td>\n",
              "      <td>Punjab</td>\n",
              "      <td>Petrol</td>\n",
              "      <td>Black</td>\n",
              "      <td>Local</td>\n",
              "      <td>Sedan</td>\n",
              "      <td>Automatic</td>\n",
              "      <td>Registered</td>\n",
              "      <td>3250000</td>\n",
              "    </tr>\n",
              "    <tr>\n",
              "      <th>46020</th>\n",
              "      <td>Toyota</td>\n",
              "      <td>Aqua</td>\n",
              "      <td>Punjab</td>\n",
              "      <td>Petrol</td>\n",
              "      <td>Black</td>\n",
              "      <td>Imported</td>\n",
              "      <td>Hatchback</td>\n",
              "      <td>Automatic</td>\n",
              "      <td>Registered</td>\n",
              "      <td>3000000</td>\n",
              "    </tr>\n",
              "    <tr>\n",
              "      <th>46021</th>\n",
              "      <td>Toyota</td>\n",
              "      <td>Corolla</td>\n",
              "      <td>Punjab</td>\n",
              "      <td>Petrol</td>\n",
              "      <td>Assembly</td>\n",
              "      <td>Local</td>\n",
              "      <td>Sedan</td>\n",
              "      <td>Automatic</td>\n",
              "      <td>Registered</td>\n",
              "      <td>2250000</td>\n",
              "    </tr>\n",
              "  </tbody>\n",
              "</table>\n",
              "<p>45207 rows × 10 columns</p>\n",
              "</div>"
            ],
            "text/plain": [
              "      Company Name Model Name   Location Engine Type     Color  Assembly  \\\n",
              "0           Toyota       Vitz  Islamabad      Petrol    Silver  Imported   \n",
              "1           Toyota    Corolla        KPK      Petrol     White     Local   \n",
              "2           Suzuki       Alto        KPK      Petrol     White     Local   \n",
              "3           Suzuki       Alto     Punjab      Petrol     White     Local   \n",
              "4           Toyota    Corolla  Islamabad      Petrol     Black     Local   \n",
              "...            ...        ...        ...         ...       ...       ...   \n",
              "46017        Honda      Vezel     Punjab      Petrol     Black  Imported   \n",
              "46018       Toyota       Aqua     Punjab      Petrol      Blue  Imported   \n",
              "46019        Honda      Civic     Punjab      Petrol     Black     Local   \n",
              "46020       Toyota       Aqua     Punjab      Petrol     Black  Imported   \n",
              "46021       Toyota    Corolla     Punjab      Petrol  Assembly     Local   \n",
              "\n",
              "        Body Type Transmission Type Registration Status    Price  \n",
              "0       Hatchback         Automatic       Un-Registered  2385000  \n",
              "1           Sedan         Automatic          Registered   111000  \n",
              "2       Hatchback         Automatic       Un-Registered  1530000  \n",
              "3       Hatchback            Manual          Registered  1650000  \n",
              "4           Sedan            Manual          Registered  1435000  \n",
              "...           ...               ...                 ...      ...  \n",
              "46017  Cross Over         Automatic       Un-Registered  3400000  \n",
              "46018   Hatchback         Automatic       Un-Registered  2450000  \n",
              "46019       Sedan         Automatic          Registered  3250000  \n",
              "46020   Hatchback         Automatic          Registered  3000000  \n",
              "46021       Sedan         Automatic          Registered  2250000  \n",
              "\n",
              "[45207 rows x 10 columns]"
            ]
          },
          "execution_count": 200,
          "metadata": {},
          "output_type": "execute_result"
        }
      ],
      "source": [
        "cat_dt['Price'] = data['Price']\n",
        "cat_dt"
      ]
    },
    {
      "cell_type": "code",
      "execution_count": 201,
      "metadata": {},
      "outputs": [
        {
          "data": {
            "text/plain": [
              "['Price', 'Model Year', 'Mileage', 'Engine Capacity']"
            ]
          },
          "execution_count": 201,
          "metadata": {},
          "output_type": "execute_result"
        }
      ],
      "source": [
        "num_cols = data.select_dtypes(include=['float', 'int']).columns.tolist()\n",
        "num_cols"
      ]
    },
    {
      "cell_type": "code",
      "execution_count": 202,
      "metadata": {},
      "outputs": [
        {
          "data": {
            "text/html": [
              "<div>\n",
              "<style scoped>\n",
              "    .dataframe tbody tr th:only-of-type {\n",
              "        vertical-align: middle;\n",
              "    }\n",
              "\n",
              "    .dataframe tbody tr th {\n",
              "        vertical-align: top;\n",
              "    }\n",
              "\n",
              "    .dataframe thead th {\n",
              "        text-align: right;\n",
              "    }\n",
              "</style>\n",
              "<table border=\"1\" class=\"dataframe\">\n",
              "  <thead>\n",
              "    <tr style=\"text-align: right;\">\n",
              "      <th></th>\n",
              "      <th>Price</th>\n",
              "      <th>Model Year</th>\n",
              "      <th>Mileage</th>\n",
              "      <th>Engine Capacity</th>\n",
              "    </tr>\n",
              "  </thead>\n",
              "  <tbody>\n",
              "    <tr>\n",
              "      <th>0</th>\n",
              "      <td>2385000</td>\n",
              "      <td>2017</td>\n",
              "      <td>9869</td>\n",
              "      <td>1000</td>\n",
              "    </tr>\n",
              "    <tr>\n",
              "      <th>1</th>\n",
              "      <td>111000</td>\n",
              "      <td>2019</td>\n",
              "      <td>11111</td>\n",
              "      <td>1300</td>\n",
              "    </tr>\n",
              "    <tr>\n",
              "      <th>2</th>\n",
              "      <td>1530000</td>\n",
              "      <td>2019</td>\n",
              "      <td>17500</td>\n",
              "      <td>660</td>\n",
              "    </tr>\n",
              "    <tr>\n",
              "      <th>3</th>\n",
              "      <td>1650000</td>\n",
              "      <td>2019</td>\n",
              "      <td>9600</td>\n",
              "      <td>660</td>\n",
              "    </tr>\n",
              "    <tr>\n",
              "      <th>4</th>\n",
              "      <td>1435000</td>\n",
              "      <td>2010</td>\n",
              "      <td>120000</td>\n",
              "      <td>1300</td>\n",
              "    </tr>\n",
              "    <tr>\n",
              "      <th>...</th>\n",
              "      <td>...</td>\n",
              "      <td>...</td>\n",
              "      <td>...</td>\n",
              "      <td>...</td>\n",
              "    </tr>\n",
              "    <tr>\n",
              "      <th>46017</th>\n",
              "      <td>3400000</td>\n",
              "      <td>2015</td>\n",
              "      <td>32000</td>\n",
              "      <td>1500</td>\n",
              "    </tr>\n",
              "    <tr>\n",
              "      <th>46018</th>\n",
              "      <td>2450000</td>\n",
              "      <td>2015</td>\n",
              "      <td>52000</td>\n",
              "      <td>1500</td>\n",
              "    </tr>\n",
              "    <tr>\n",
              "      <th>46019</th>\n",
              "      <td>3250000</td>\n",
              "      <td>2015</td>\n",
              "      <td>125000</td>\n",
              "      <td>1800</td>\n",
              "    </tr>\n",
              "    <tr>\n",
              "      <th>46020</th>\n",
              "      <td>3000000</td>\n",
              "      <td>2016</td>\n",
              "      <td>60000</td>\n",
              "      <td>1500</td>\n",
              "    </tr>\n",
              "    <tr>\n",
              "      <th>46021</th>\n",
              "      <td>2250000</td>\n",
              "      <td>2015</td>\n",
              "      <td>77000</td>\n",
              "      <td>1300</td>\n",
              "    </tr>\n",
              "  </tbody>\n",
              "</table>\n",
              "<p>45207 rows × 4 columns</p>\n",
              "</div>"
            ],
            "text/plain": [
              "         Price  Model Year  Mileage  Engine Capacity\n",
              "0      2385000        2017     9869             1000\n",
              "1       111000        2019    11111             1300\n",
              "2      1530000        2019    17500              660\n",
              "3      1650000        2019     9600              660\n",
              "4      1435000        2010   120000             1300\n",
              "...        ...         ...      ...              ...\n",
              "46017  3400000        2015    32000             1500\n",
              "46018  2450000        2015    52000             1500\n",
              "46019  3250000        2015   125000             1800\n",
              "46020  3000000        2016    60000             1500\n",
              "46021  2250000        2015    77000             1300\n",
              "\n",
              "[45207 rows x 4 columns]"
            ]
          },
          "execution_count": 202,
          "metadata": {},
          "output_type": "execute_result"
        }
      ],
      "source": [
        "num_dt = data[num_cols]\n",
        "num_dt"
      ]
    },
    {
      "cell_type": "markdown",
      "metadata": {},
      "source": [
        "**Kendalltau**"
      ]
    },
    {
      "cell_type": "markdown",
      "metadata": {},
      "source": [
        "Mencari korelasi antara kolom numerikal dan kategorikal terhadap kolom price"
      ]
    },
    {
      "cell_type": "code",
      "execution_count": 203,
      "metadata": {},
      "outputs": [
        {
          "name": "stdout",
          "output_type": "stream",
          "text": [
            "Nama kolom: Company Name\n",
            "Kendall Tau: 0.14007661601195748\n",
            "P-Value: 0.0\n",
            "Nama kolom: Model Name\n",
            "Kendall Tau: -0.018379059856875227\n",
            "P-Value: 1.504547159356417e-08\n",
            "Nama kolom: Location\n",
            "Kendall Tau: -0.024946611839579084\n",
            "P-Value: 3.3108713645642522e-12\n",
            "Nama kolom: Engine Type\n",
            "Kendall Tau: -0.16979850827922774\n",
            "P-Value: 0.0\n",
            "Nama kolom: Color\n",
            "Kendall Tau: -0.00021834004906421818\n",
            "P-Value: 0.9490680851201874\n",
            "Nama kolom: Assembly\n",
            "Kendall Tau: -0.296542123981742\n",
            "P-Value: 0.0\n",
            "Nama kolom: Body Type\n",
            "Kendall Tau: 0.23063523827592416\n",
            "P-Value: 0.0\n",
            "Nama kolom: Transmission Type\n",
            "Kendall Tau: -0.516629002108893\n",
            "P-Value: 0.0\n",
            "Nama kolom: Registration Status\n",
            "Kendall Tau: 0.2140809543446086\n",
            "P-Value: 0.0\n",
            "Nama kolom: Price\n",
            "Kendall Tau: 1.0\n",
            "P-Value: 0.0\n"
          ]
        }
      ],
      "source": [
        "def cat_corr(col):\n",
        "    corr_kendall, p_value = kendalltau(cat_dt[col], cat_dt['Price'])\n",
        "    print('Nama kolom:', col)\n",
        "    print('Kendall Tau:', corr_kendall)\n",
        "    print('P-Value:', p_value)\n",
        "\n",
        "for column in cat_dt.columns:\n",
        "    cat_corr(column)"
      ]
    },
    {
      "cell_type": "code",
      "execution_count": 204,
      "metadata": {},
      "outputs": [
        {
          "name": "stdout",
          "output_type": "stream",
          "text": [
            "Nama kolom: Price\n",
            "Kendall Tau: 1.0\n",
            "P-Value: 0.0\n",
            "Nama kolom: Model Year\n",
            "Kendall Tau: 0.39675127697810925\n",
            "P-Value: 0.0\n",
            "Nama kolom: Mileage\n",
            "Kendall Tau: -0.2552501289138848\n",
            "P-Value: 0.0\n",
            "Nama kolom: Engine Capacity\n",
            "Kendall Tau: 0.45272816338206456\n",
            "P-Value: 0.0\n"
          ]
        }
      ],
      "source": [
        "def cat_corr(col):\n",
        "    corr_kendall, p_value = kendalltau(num_dt[col], num_dt['Price'])\n",
        "    print('Nama kolom:', col)\n",
        "    print('Kendall Tau:', corr_kendall)\n",
        "    print('P-Value:', p_value)\n",
        "\n",
        "for column in num_dt.columns:\n",
        "    cat_corr(column)"
      ]
    },
    {
      "cell_type": "markdown",
      "metadata": {},
      "source": [
        "#### **Feature Selection**"
      ]
    },
    {
      "cell_type": "markdown",
      "metadata": {},
      "source": [
        "menghapus kolom yang tidaka ada korelasi dengan kolom price"
      ]
    },
    {
      "cell_type": "code",
      "execution_count": 205,
      "metadata": {},
      "outputs": [
        {
          "data": {
            "text/html": [
              "<div>\n",
              "<style scoped>\n",
              "    .dataframe tbody tr th:only-of-type {\n",
              "        vertical-align: middle;\n",
              "    }\n",
              "\n",
              "    .dataframe tbody tr th {\n",
              "        vertical-align: top;\n",
              "    }\n",
              "\n",
              "    .dataframe thead th {\n",
              "        text-align: right;\n",
              "    }\n",
              "</style>\n",
              "<table border=\"1\" class=\"dataframe\">\n",
              "  <thead>\n",
              "    <tr style=\"text-align: right;\">\n",
              "      <th></th>\n",
              "      <th>Company Name</th>\n",
              "      <th>Price</th>\n",
              "      <th>Model Year</th>\n",
              "      <th>Mileage</th>\n",
              "      <th>Engine Type</th>\n",
              "      <th>Engine Capacity</th>\n",
              "      <th>Assembly</th>\n",
              "      <th>Body Type</th>\n",
              "      <th>Transmission Type</th>\n",
              "      <th>Registration Status</th>\n",
              "    </tr>\n",
              "  </thead>\n",
              "  <tbody>\n",
              "    <tr>\n",
              "      <th>0</th>\n",
              "      <td>Toyota</td>\n",
              "      <td>2385000</td>\n",
              "      <td>2017</td>\n",
              "      <td>9869</td>\n",
              "      <td>Petrol</td>\n",
              "      <td>1000</td>\n",
              "      <td>Imported</td>\n",
              "      <td>Hatchback</td>\n",
              "      <td>Automatic</td>\n",
              "      <td>Un-Registered</td>\n",
              "    </tr>\n",
              "    <tr>\n",
              "      <th>1</th>\n",
              "      <td>Toyota</td>\n",
              "      <td>111000</td>\n",
              "      <td>2019</td>\n",
              "      <td>11111</td>\n",
              "      <td>Petrol</td>\n",
              "      <td>1300</td>\n",
              "      <td>Local</td>\n",
              "      <td>Sedan</td>\n",
              "      <td>Automatic</td>\n",
              "      <td>Registered</td>\n",
              "    </tr>\n",
              "    <tr>\n",
              "      <th>2</th>\n",
              "      <td>Suzuki</td>\n",
              "      <td>1530000</td>\n",
              "      <td>2019</td>\n",
              "      <td>17500</td>\n",
              "      <td>Petrol</td>\n",
              "      <td>660</td>\n",
              "      <td>Local</td>\n",
              "      <td>Hatchback</td>\n",
              "      <td>Automatic</td>\n",
              "      <td>Un-Registered</td>\n",
              "    </tr>\n",
              "    <tr>\n",
              "      <th>3</th>\n",
              "      <td>Suzuki</td>\n",
              "      <td>1650000</td>\n",
              "      <td>2019</td>\n",
              "      <td>9600</td>\n",
              "      <td>Petrol</td>\n",
              "      <td>660</td>\n",
              "      <td>Local</td>\n",
              "      <td>Hatchback</td>\n",
              "      <td>Manual</td>\n",
              "      <td>Registered</td>\n",
              "    </tr>\n",
              "    <tr>\n",
              "      <th>4</th>\n",
              "      <td>Toyota</td>\n",
              "      <td>1435000</td>\n",
              "      <td>2010</td>\n",
              "      <td>120000</td>\n",
              "      <td>Petrol</td>\n",
              "      <td>1300</td>\n",
              "      <td>Local</td>\n",
              "      <td>Sedan</td>\n",
              "      <td>Manual</td>\n",
              "      <td>Registered</td>\n",
              "    </tr>\n",
              "  </tbody>\n",
              "</table>\n",
              "</div>"
            ],
            "text/plain": [
              "  Company Name    Price  Model Year  Mileage Engine Type  Engine Capacity  \\\n",
              "0       Toyota  2385000        2017     9869      Petrol             1000   \n",
              "1       Toyota   111000        2019    11111      Petrol             1300   \n",
              "2       Suzuki  1530000        2019    17500      Petrol              660   \n",
              "3       Suzuki  1650000        2019     9600      Petrol              660   \n",
              "4       Toyota  1435000        2010   120000      Petrol             1300   \n",
              "\n",
              "   Assembly  Body Type Transmission Type Registration Status  \n",
              "0  Imported  Hatchback         Automatic       Un-Registered  \n",
              "1     Local      Sedan         Automatic          Registered  \n",
              "2     Local  Hatchback         Automatic       Un-Registered  \n",
              "3     Local  Hatchback            Manual          Registered  \n",
              "4     Local      Sedan            Manual          Registered  "
            ]
          },
          "execution_count": 205,
          "metadata": {},
          "output_type": "execute_result"
        }
      ],
      "source": [
        "# Menghapus kolom yang ingin dihapus dari 'df'\n",
        "columns_to_drop = ['Model Name', 'Location', 'Color']\n",
        "new_data = data.drop(columns=columns_to_drop)\n",
        "\n",
        "# Menampilkan 'df_final' yang telah dihapus kolomnya\n",
        "new_data.head()"
      ]
    },
    {
      "cell_type": "code",
      "execution_count": 206,
      "metadata": {
        "id": "UGzXjYgRBX5w"
      },
      "outputs": [],
      "source": [
        "# Feature Selection\n",
        "num_cols = ['Model Year', 'Mileage', 'Engine Capacity']\n",
        "cat_cols = ['Company Name', 'Engine Type', 'Assembly', 'Body Type', 'Transmission Type', 'Registration Status']"
      ]
    },
    {
      "cell_type": "markdown",
      "metadata": {},
      "source": [
        "kode diatas adalah untuk memilih kolom yang akan dipakai sebagai feature"
      ]
    },
    {
      "cell_type": "markdown",
      "metadata": {
        "id": "mgpn4JfLHs_W"
      },
      "source": [
        "#### **Menampilkan Outlier**"
      ]
    },
    {
      "cell_type": "code",
      "execution_count": 207,
      "metadata": {},
      "outputs": [
        {
          "data": {
            "image/png": "[encoded data removed]",
            "text/plain": [
              "<Figure size 1800x500 with 3 Axes>"
            ]
          },
          "metadata": {},
          "output_type": "display_data"
        }
      ],
      "source": [
        "warnings.filterwarnings(\"ignore\")\n",
        "\n",
        "def outlier_analysis(data, col):\n",
        "    skewness = data[col].skew()\n",
        "    if skewness >= -0.5 and skewness <= 0.5:\n",
        "        upper = data[col].mean() + 3 * data[col].std()\n",
        "        lower = data[col].mean() - 3 * data[col].std()\n",
        "    else:\n",
        "        Q1 = data[col].quantile(0.25)\n",
        "        Q3 = data[col].quantile(0.75)\n",
        "        IQR = Q3 - Q1\n",
        "        upper = Q1 + 1.5 * IQR\n",
        "        lower = Q3 - 1.5 * IQR\n",
        "\n",
        "    no_outliers = data[(data[col] >= lower) & (data[col] <= upper)]\n",
        "    outliers = data[(data[col] < lower) | (data[col] > upper)]\n",
        "\n",
        "    return outliers, no_outliers, upper, lower\n",
        "\n",
        "fig, ax = plt.subplots(ncols=3, figsize=(18, 5))\n",
        "cols_to_plot = num_cols[:3]  # Mengambil tiga kolom pertama\n",
        "\n",
        "for i, col in enumerate(cols_to_plot):\n",
        "    out, no_out, up, low = outlier_analysis(new_data, col)\n",
        "    sns.boxplot(new_data[col], ax=ax[i])\n",
        "    ax[i].set_title('Persentase Outlier: {:.2f}%'.format(len(out) * 100 / len(data)))\n",
        "\n",
        "plt.show()\n"
      ]
    },
    {
      "cell_type": "markdown",
      "metadata": {},
      "source": [
        "dilihat dari visualisasi diatas ada outlier dan saya akan menghilangkan outlier tersebut"
      ]
    },
    {
      "cell_type": "markdown",
      "metadata": {},
      "source": [
        "#### **Split Data**"
      ]
    },
    {
      "cell_type": "code",
      "execution_count": 208,
      "metadata": {
        "id": "Ibr04LEgCmns"
      },
      "outputs": [],
      "source": [
        "train, test = train_test_split(new_data, train_size=0.8)"
      ]
    },
    {
      "cell_type": "markdown",
      "metadata": {},
      "source": [
        "#### **Handling outlier**"
      ]
    },
    {
      "cell_type": "code",
      "execution_count": 209,
      "metadata": {
        "colab": {
          "base_uri": "https://localhost:8080/"
        },
        "id": "6PnJ36ZACswr",
        "outputId": "433fb188-2545-4c20-a98b-6b43969e0ce3"
      },
      "outputs": [
        {
          "name": "stdout",
          "output_type": "stream",
          "text": [
            "Jumlah data train sebelum outlier handling: 36165\n",
            "Jumlah data train setelah outlier handling: 32528\n"
          ]
        }
      ],
      "source": [
        "new_train = train.copy()\n",
        "cols= ['Model Year', 'Mileage', 'Engine Capacity']\n",
        "for col in cols:\n",
        "  out,no_out, up, low = outlier_analysis(new_train,col)\n",
        "  pct_out = len(out)*100/len(train)\n",
        "\n",
        "  if pct_out<=15:\n",
        "    new_train = new_train[(new_train[col]>=low) & (new_train[col]<=up)]\n",
        "  else:\n",
        "    new_train[col] = new_train[col].apply(lambda x: up if x>=up else low if x<=low else x)\n",
        "\n",
        "print(f\"Jumlah data train sebelum outlier handling: {len(train)}\")\n",
        "print(f\"Jumlah data train setelah outlier handling: {len(new_train)}\")"
      ]
    },
    {
      "cell_type": "markdown",
      "metadata": {},
      "source": [
        "setelah dilakukan handling outlier ada perubahan data pada data train"
      ]
    },
    {
      "cell_type": "markdown",
      "metadata": {},
      "source": [
        "#### **Scaling**"
      ]
    },
    {
      "cell_type": "code",
      "execution_count": 210,
      "metadata": {
        "colab": {
          "base_uri": "https://localhost:8080/",
          "height": 74
        },
        "id": "4sYDjFFzDMDB",
        "outputId": "dbc5899e-c467-4160-f037-bf96f92013c6"
      },
      "outputs": [
        {
          "data": {
            "text/html": [
              "<style>#sk-container-id-8 {color: black;background-color: white;}#sk-container-id-8 pre{padding: 0;}#sk-container-id-8 div.sk-toggleable {background-color: white;}#sk-container-id-8 label.sk-toggleable__label {cursor: pointer;display: block;width: 100%;margin-bottom: 0;padding: 0.3em;box-sizing: border-box;text-align: center;}#sk-container-id-8 label.sk-toggleable__label-arrow:before {content: \"▸\";float: left;margin-right: 0.25em;color: #696969;}#sk-container-id-8 label.sk-toggleable__label-arrow:hover:before {color: black;}#sk-container-id-8 div.sk-estimator:hover label.sk-toggleable__label-arrow:before {color: black;}#sk-container-id-8 div.sk-toggleable__content {max-height: 0;max-width: 0;overflow: hidden;text-align: left;background-color: #f0f8ff;}#sk-container-id-8 div.sk-toggleable__content pre {margin: 0.2em;color: black;border-radius: 0.25em;background-color: #f0f8ff;}#sk-container-id-8 input.sk-toggleable__control:checked~div.sk-toggleable__content {max-height: 200px;max-width: 100%;overflow: auto;}#sk-container-id-8 input.sk-toggleable__control:checked~label.sk-toggleable__label-arrow:before {content: \"▾\";}#sk-container-id-8 div.sk-estimator input.sk-toggleable__control:checked~label.sk-toggleable__label {background-color: #d4ebff;}#sk-container-id-8 div.sk-label input.sk-toggleable__control:checked~label.sk-toggleable__label {background-color: #d4ebff;}#sk-container-id-8 input.sk-hidden--visually {border: 0;clip: rect(1px 1px 1px 1px);clip: rect(1px, 1px, 1px, 1px);height: 1px;margin: -1px;overflow: hidden;padding: 0;position: absolute;width: 1px;}#sk-container-id-8 div.sk-estimator {font-family: monospace;background-color: #f0f8ff;border: 1px dotted black;border-radius: 0.25em;box-sizing: border-box;margin-bottom: 0.5em;}#sk-container-id-8 div.sk-estimator:hover {background-color: #d4ebff;}#sk-container-id-8 div.sk-parallel-item::after {content: \"\";width: 100%;border-bottom: 1px solid gray;flex-grow: 1;}#sk-container-id-8 div.sk-label:hover label.sk-toggleable__label {background-color: #d4ebff;}#sk-container-id-8 div.sk-serial::before {content: \"\";position: absolute;border-left: 1px solid gray;box-sizing: border-box;top: 0;bottom: 0;left: 50%;z-index: 0;}#sk-container-id-8 div.sk-serial {display: flex;flex-direction: column;align-items: center;background-color: white;padding-right: 0.2em;padding-left: 0.2em;position: relative;}#sk-container-id-8 div.sk-item {position: relative;z-index: 1;}#sk-container-id-8 div.sk-parallel {display: flex;align-items: stretch;justify-content: center;background-color: white;position: relative;}#sk-container-id-8 div.sk-item::before, #sk-container-id-8 div.sk-parallel-item::before {content: \"\";position: absolute;border-left: 1px solid gray;box-sizing: border-box;top: 0;bottom: 0;left: 50%;z-index: -1;}#sk-container-id-8 div.sk-parallel-item {display: flex;flex-direction: column;z-index: 1;position: relative;background-color: white;}#sk-container-id-8 div.sk-parallel-item:first-child::after {align-self: flex-end;width: 50%;}#sk-container-id-8 div.sk-parallel-item:last-child::after {align-self: flex-start;width: 50%;}#sk-container-id-8 div.sk-parallel-item:only-child::after {width: 0;}#sk-container-id-8 div.sk-dashed-wrapped {border: 1px dashed gray;margin: 0 0.4em 0.5em 0.4em;box-sizing: border-box;padding-bottom: 0.4em;background-color: white;}#sk-container-id-8 div.sk-label label {font-family: monospace;font-weight: bold;display: inline-block;line-height: 1.2em;}#sk-container-id-8 div.sk-label-container {text-align: center;}#sk-container-id-8 div.sk-container {/* jupyter's `normalize.less` sets `[hidden] { display: none; }` but bootstrap.min.css set `[hidden] { display: none !important; }` so we also need the `!important` here to be able to override the default hidden behavior on the sphinx rendered scikit-learn.org. See: https://github.com/scikit-learn/scikit-learn/issues/21755 */display: inline-block !important;position: relative;}#sk-container-id-8 div.sk-text-repr-fallback {display: none;}</style><div id=\"sk-container-id-8\" class=\"sk-top-container\"><div class=\"sk-text-repr-fallback\"><pre>MinMaxScaler()</pre><b>In a Jupyter environment, please rerun this cell to show the HTML representation or trust the notebook. <br />On GitHub, the HTML representation is unable to render, please try loading this page with nbviewer.org.</b></div><div class=\"sk-container\" hidden><div class=\"sk-item\"><div class=\"sk-estimator sk-toggleable\"><input class=\"sk-toggleable__control sk-hidden--visually\" id=\"sk-estimator-id-40\" type=\"checkbox\" checked><label for=\"sk-estimator-id-40\" class=\"sk-toggleable__label sk-toggleable__label-arrow\">MinMaxScaler</label><div class=\"sk-toggleable__content\"><pre>MinMaxScaler()</pre></div></div></div></div></div>"
            ],
            "text/plain": [
              "MinMaxScaler()"
            ]
          },
          "execution_count": 210,
          "metadata": {},
          "output_type": "execute_result"
        }
      ],
      "source": [
        "norm = 0\n",
        "nonorm = 0\n",
        "for col in num_cols:\n",
        "  if train[col].skew() >=-0.5 and train[col].skew() <0.5:\n",
        "    norm += 1\n",
        "  else:\n",
        "    nonorm +=1\n",
        "\n",
        "if norm > nonorm:\n",
        "  scaler = StandardScaler()\n",
        "else:\n",
        "  scaler = MinMaxScaler()\n",
        "scaler"
      ]
    },
    {
      "cell_type": "code",
      "execution_count": 211,
      "metadata": {
        "id": "H44UliMdDcjw"
      },
      "outputs": [],
      "source": [
        "num_train_scaled = pd.DataFrame(scaler.fit_transform(new_train[num_cols]))\n",
        "num_test_scaled = pd.DataFrame(scaler.transform(test[num_cols]))"
      ]
    },
    {
      "cell_type": "code",
      "execution_count": 212,
      "metadata": {
        "colab": {
          "base_uri": "https://localhost:8080/",
          "height": 204
        },
        "id": "zxuWpnqeW3yj",
        "outputId": "bde0afed-6d57-4b80-a221-58a157c1d900"
      },
      "outputs": [
        {
          "data": {
            "text/html": [
              "<div>\n",
              "<style scoped>\n",
              "    .dataframe tbody tr th:only-of-type {\n",
              "        vertical-align: middle;\n",
              "    }\n",
              "\n",
              "    .dataframe tbody tr th {\n",
              "        vertical-align: top;\n",
              "    }\n",
              "\n",
              "    .dataframe thead th {\n",
              "        text-align: right;\n",
              "    }\n",
              "</style>\n",
              "<table border=\"1\" class=\"dataframe\">\n",
              "  <thead>\n",
              "    <tr style=\"text-align: right;\">\n",
              "      <th></th>\n",
              "      <th>Company Name</th>\n",
              "      <th>Engine Type</th>\n",
              "      <th>Assembly</th>\n",
              "      <th>Body Type</th>\n",
              "      <th>Transmission Type</th>\n",
              "      <th>Registration Status</th>\n",
              "    </tr>\n",
              "  </thead>\n",
              "  <tbody>\n",
              "    <tr>\n",
              "      <th>0</th>\n",
              "      <td>Toyota</td>\n",
              "      <td>Petrol</td>\n",
              "      <td>Imported</td>\n",
              "      <td>Hatchback</td>\n",
              "      <td>Automatic</td>\n",
              "      <td>Un-Registered</td>\n",
              "    </tr>\n",
              "    <tr>\n",
              "      <th>1</th>\n",
              "      <td>Toyota</td>\n",
              "      <td>Petrol</td>\n",
              "      <td>Local</td>\n",
              "      <td>Sedan</td>\n",
              "      <td>Automatic</td>\n",
              "      <td>Registered</td>\n",
              "    </tr>\n",
              "    <tr>\n",
              "      <th>2</th>\n",
              "      <td>Suzuki</td>\n",
              "      <td>Petrol</td>\n",
              "      <td>Local</td>\n",
              "      <td>Hatchback</td>\n",
              "      <td>Automatic</td>\n",
              "      <td>Un-Registered</td>\n",
              "    </tr>\n",
              "    <tr>\n",
              "      <th>3</th>\n",
              "      <td>Suzuki</td>\n",
              "      <td>Petrol</td>\n",
              "      <td>Local</td>\n",
              "      <td>Hatchback</td>\n",
              "      <td>Manual</td>\n",
              "      <td>Registered</td>\n",
              "    </tr>\n",
              "    <tr>\n",
              "      <th>4</th>\n",
              "      <td>Toyota</td>\n",
              "      <td>Petrol</td>\n",
              "      <td>Local</td>\n",
              "      <td>Sedan</td>\n",
              "      <td>Manual</td>\n",
              "      <td>Registered</td>\n",
              "    </tr>\n",
              "  </tbody>\n",
              "</table>\n",
              "</div>"
            ],
            "text/plain": [
              "  Company Name Engine Type  Assembly  Body Type Transmission Type  \\\n",
              "0       Toyota      Petrol  Imported  Hatchback         Automatic   \n",
              "1       Toyota      Petrol     Local      Sedan         Automatic   \n",
              "2       Suzuki      Petrol     Local  Hatchback         Automatic   \n",
              "3       Suzuki      Petrol     Local  Hatchback            Manual   \n",
              "4       Toyota      Petrol     Local      Sedan            Manual   \n",
              "\n",
              "  Registration Status  \n",
              "0       Un-Registered  \n",
              "1          Registered  \n",
              "2       Un-Registered  \n",
              "3          Registered  \n",
              "4          Registered  "
            ]
          },
          "execution_count": 212,
          "metadata": {},
          "output_type": "execute_result"
        }
      ],
      "source": [
        "new_data[cat_cols].head()"
      ]
    },
    {
      "cell_type": "markdown",
      "metadata": {},
      "source": [
        "#### **Encoder**"
      ]
    },
    {
      "cell_type": "code",
      "execution_count": 213,
      "metadata": {
        "id": "WijoFoYlW57h"
      },
      "outputs": [],
      "source": [
        "encoder = OrdinalEncoder(handle_unknown='use_encoded_value', unknown_value=-1)\n",
        "\n",
        "encoder.fit(new_train[cat_cols])\n",
        "cat_train = pd.DataFrame(encoder.transform(new_train[cat_cols]))\n",
        "cat_test = pd.DataFrame(encoder.transform(test[cat_cols]))"
      ]
    },
    {
      "cell_type": "code",
      "execution_count": 214,
      "metadata": {
        "colab": {
          "base_uri": "https://localhost:8080/",
          "height": 226
        },
        "id": "zSGrox1WFB7D",
        "outputId": "3a799ad7-dca2-47d1-e070-8466dfd82ac7"
      },
      "outputs": [
        {
          "data": {
            "text/html": [
              "<div>\n",
              "<style scoped>\n",
              "    .dataframe tbody tr th:only-of-type {\n",
              "        vertical-align: middle;\n",
              "    }\n",
              "\n",
              "    .dataframe tbody tr th {\n",
              "        vertical-align: top;\n",
              "    }\n",
              "\n",
              "    .dataframe thead th {\n",
              "        text-align: right;\n",
              "    }\n",
              "</style>\n",
              "<table border=\"1\" class=\"dataframe\">\n",
              "  <thead>\n",
              "    <tr style=\"text-align: right;\">\n",
              "      <th></th>\n",
              "      <th>0</th>\n",
              "      <th>1</th>\n",
              "      <th>2</th>\n",
              "      <th>3</th>\n",
              "      <th>4</th>\n",
              "      <th>5</th>\n",
              "    </tr>\n",
              "  </thead>\n",
              "  <tbody>\n",
              "    <tr>\n",
              "      <th>0</th>\n",
              "      <td>9.0</td>\n",
              "      <td>2.0</td>\n",
              "      <td>0.0</td>\n",
              "      <td>3.0</td>\n",
              "      <td>0.0</td>\n",
              "      <td>0.0</td>\n",
              "    </tr>\n",
              "    <tr>\n",
              "      <th>1</th>\n",
              "      <td>26.0</td>\n",
              "      <td>2.0</td>\n",
              "      <td>0.0</td>\n",
              "      <td>1.0</td>\n",
              "      <td>0.0</td>\n",
              "      <td>1.0</td>\n",
              "    </tr>\n",
              "    <tr>\n",
              "      <th>2</th>\n",
              "      <td>9.0</td>\n",
              "      <td>2.0</td>\n",
              "      <td>1.0</td>\n",
              "      <td>4.0</td>\n",
              "      <td>0.0</td>\n",
              "      <td>0.0</td>\n",
              "    </tr>\n",
              "    <tr>\n",
              "      <th>3</th>\n",
              "      <td>6.0</td>\n",
              "      <td>2.0</td>\n",
              "      <td>1.0</td>\n",
              "      <td>1.0</td>\n",
              "      <td>1.0</td>\n",
              "      <td>0.0</td>\n",
              "    </tr>\n",
              "    <tr>\n",
              "      <th>4</th>\n",
              "      <td>25.0</td>\n",
              "      <td>2.0</td>\n",
              "      <td>1.0</td>\n",
              "      <td>1.0</td>\n",
              "      <td>1.0</td>\n",
              "      <td>0.0</td>\n",
              "    </tr>\n",
              "  </tbody>\n",
              "</table>\n",
              "</div>"
            ],
            "text/plain": [
              "      0    1    2    3    4    5\n",
              "0   9.0  2.0  0.0  3.0  0.0  0.0\n",
              "1  26.0  2.0  0.0  1.0  0.0  1.0\n",
              "2   9.0  2.0  1.0  4.0  0.0  0.0\n",
              "3   6.0  2.0  1.0  1.0  1.0  0.0\n",
              "4  25.0  2.0  1.0  1.0  1.0  0.0"
            ]
          },
          "execution_count": 214,
          "metadata": {},
          "output_type": "execute_result"
        }
      ],
      "source": [
        "cat_train.head()"
      ]
    },
    {
      "cell_type": "code",
      "execution_count": 215,
      "metadata": {
        "id": "e7VcazGhDnNM"
      },
      "outputs": [],
      "source": [
        "X_train = pd.concat([num_train_scaled,cat_train],axis=1)\n",
        "X_test = pd.concat([num_test_scaled,cat_test],axis=1)\n",
        "\n",
        "y_train = new_train['Price']\n",
        "y_test = test['Price']"
      ]
    },
    {
      "cell_type": "markdown",
      "metadata": {},
      "source": [
        "# **Model Definition**"
      ]
    },
    {
      "cell_type": "markdown",
      "metadata": {},
      "source": [
        "menampilkan senua model yang ingin dipakai dan mencari model yang terbaik"
      ]
    },
    {
      "cell_type": "markdown",
      "metadata": {
        "id": "yDeV9tS9Htpn"
      },
      "source": [
        "## SVM"
      ]
    },
    {
      "cell_type": "code",
      "execution_count": 216,
      "metadata": {
        "colab": {
          "base_uri": "https://localhost:8080/"
        },
        "id": "tW-Rnhw-EZA4",
        "outputId": "46a9f84b-c5f2-4674-8111-bc64199b462a"
      },
      "outputs": [
        {
          "name": "stdout",
          "output_type": "stream",
          "text": [
            "Durasi training: 71.00858235359192 detik\n",
            "==================== TRAINING ====================\n",
            "Mean absolute error: 1169763.3698450988\n",
            "R2 Score: -0.03693312256767478\n",
            "\n",
            "\n",
            "==================== TEST ====================\n",
            "Mean absolute error: 1206042.6180922864\n",
            "R2 Score: -0.030035833930472045\n"
          ]
        }
      ],
      "source": [
        "model = SVR(kernel='rbf', C=0.1, epsilon=0.5)\n",
        "\n",
        "start = time()\n",
        "model.fit(X_train,y_train)\n",
        "end = time()\n",
        "\n",
        "print(f\"Durasi training: {end-start} detik\")\n",
        "\n",
        "y_train_pred = model.predict(X_train)\n",
        "y_test_pred = model.predict(X_test)\n",
        "\n",
        "print(\"=\"*20,\"TRAINING\",\"=\"*20)\n",
        "print(\"Mean absolute error:\",mean_absolute_error(y_train,y_train_pred))\n",
        "print(\"R2 Score:\",r2_score(y_train,y_train_pred))\n",
        "print(\"\\n\")\n",
        "print(\"=\"*20,\"TEST\",\"=\"*20)\n",
        "print(\"Mean absolute error:\",mean_absolute_error(y_test,y_test_pred))\n",
        "print(\"R2 Score:\",r2_score(y_test,y_test_pred))"
      ]
    },
    {
      "cell_type": "code",
      "execution_count": 217,
      "metadata": {},
      "outputs": [
        {
          "name": "stdout",
          "output_type": "stream",
          "text": [
            "Durasi training: 0.027202129364013672 detik\n",
            "==================== TRAINING ====================\n",
            "Mean absolute error: 363272.6818858351\n",
            "R2 Score: 0.8164801448895423\n",
            "\n",
            "\n",
            "==================== TEST ====================\n",
            "Mean absolute error: 405815.30619152915\n",
            "R2 Score: 0.8337514933979341\n"
          ]
        }
      ],
      "source": [
        "model = DecisionTreeRegressor(max_depth=6, min_samples_leaf=2, min_samples_split=3)\n",
        "\n",
        "start = time()\n",
        "model.fit(X_train, y_train)\n",
        "end = time()\n",
        "\n",
        "print(f\"Durasi training: {end-start} detik\")\n",
        "\n",
        "y_train_pred = model.predict(X_train)\n",
        "y_test_pred = model.predict(X_test)\n",
        "\n",
        "print(\"=\"*20, \"TRAINING\", \"=\"*20)\n",
        "print(\"Mean absolute error:\", mean_absolute_error(y_train, y_train_pred))\n",
        "print(\"R2 Score:\", r2_score(y_train, y_train_pred))\n",
        "print(\"\\n\")\n",
        "print(\"=\"*20, \"TEST\", \"=\"*20)\n",
        "print(\"Mean absolute error:\", mean_absolute_error(y_test, y_test_pred))\n",
        "print(\"R2 Score:\", r2_score(y_test, y_test_pred))"
      ]
    },
    {
      "cell_type": "markdown",
      "metadata": {},
      "source": [
        "## Adaboost"
      ]
    },
    {
      "cell_type": "code",
      "execution_count": 218,
      "metadata": {},
      "outputs": [
        {
          "name": "stdout",
          "output_type": "stream",
          "text": [
            "Durasi training: 1.0848028659820557 detik\n",
            "==================== TRAINING ====================\n",
            "Mean absolute error: 1481739.9667582558\n",
            "R2 Score: 0.31853816274017466\n",
            "\n",
            "\n",
            "==================== TEST ====================\n",
            "Mean absolute error: 1630984.5390926686\n",
            "R2 Score: 0.23286786620702782\n"
          ]
        }
      ],
      "source": [
        "# Ganti model dengan Adaboost Regressor\n",
        "model = AdaBoostRegressor(n_estimators=50, learning_rate=1.0)\n",
        "\n",
        "start = time()\n",
        "model.fit(X_train, y_train)\n",
        "end = time()\n",
        "\n",
        "print(f\"Durasi training: {end-start} detik\")\n",
        "\n",
        "y_train_pred = model.predict(X_train)\n",
        "y_test_pred = model.predict(X_test)\n",
        "\n",
        "print(\"=\"*20, \"TRAINING\", \"=\"*20)\n",
        "print(\"Mean absolute error:\", mean_absolute_error(y_train, y_train_pred))\n",
        "print(\"R2 Score:\", r2_score(y_train, y_train_pred))\n",
        "print(\"\\n\")\n",
        "print(\"=\"*20, \"TEST\", \"=\"*20)\n",
        "print(\"Mean absolute error:\", mean_absolute_error(y_test, y_test_pred))\n",
        "print(\"R2 Score:\", r2_score(y_test, y_test_pred))\n"
      ]
    },
    {
      "cell_type": "markdown",
      "metadata": {
        "id": "jc1Tja0IHvHb"
      },
      "source": [
        "## KNeighborsRegressor"
      ]
    },
    {
      "cell_type": "code",
      "execution_count": 219,
      "metadata": {
        "colab": {
          "base_uri": "https://localhost:8080/"
        },
        "id": "KAYrf_VPGfwq",
        "outputId": "5529cf83-0608-41e2-c8b7-1ce57c63ef0e"
      },
      "outputs": [
        {
          "name": "stdout",
          "output_type": "stream",
          "text": [
            "Durasi training: 0.062232017517089844 detik\n",
            "==================== TRAINING ====================\n",
            "Mean absolute error: 198599.22733234958\n",
            "R2 Score: 0.9333449559303251\n",
            "\n",
            "\n",
            "==================== TEST ====================\n",
            "Mean absolute error: 311196.74850696744\n",
            "R2 Score: 0.8802417047712143\n"
          ]
        }
      ],
      "source": [
        "model = KNeighborsRegressor(n_neighbors=3, weights='uniform')\n",
        "\n",
        "start = time()\n",
        "model.fit(X_train, y_train)\n",
        "end = time()\n",
        "\n",
        "print(f\"Durasi training: {end-start} detik\")\n",
        "\n",
        "y_train_pred = model.predict(X_train)\n",
        "y_test_pred = model.predict(X_test)\n",
        "\n",
        "print(\"=\"*20, \"TRAINING\", \"=\"*20)\n",
        "print(\"Mean absolute error:\", mean_absolute_error(y_train, y_train_pred))\n",
        "print(\"R2 Score:\", r2_score(y_train, y_train_pred))\n",
        "print(\"\\n\")\n",
        "print(\"=\"*20, \"TEST\", \"=\"*20)\n",
        "print(\"Mean absolute error:\", mean_absolute_error(y_test, y_test_pred))\n",
        "print(\"R2 Score:\", r2_score(y_test, y_test_pred))"
      ]
    },
    {
      "cell_type": "markdown",
      "metadata": {
        "id": "0GNLJ7WSH0PQ"
      },
      "source": [
        "## RandomForest"
      ]
    },
    {
      "cell_type": "code",
      "execution_count": 220,
      "metadata": {
        "colab": {
          "base_uri": "https://localhost:8080/"
        },
        "id": "cvQd-OhqGi5J",
        "outputId": "22159521-0351-43f4-a5a3-e35210065527"
      },
      "outputs": [
        {
          "name": "stdout",
          "output_type": "stream",
          "text": [
            "Durasi training: 3.6485719680786133 detik\n",
            "==================== TRAINING ====================\n",
            "Mean absolute error: 350020.2042800313\n",
            "R2 Score: 0.8391125334879935\n",
            "\n",
            "\n",
            "==================== TEST ====================\n",
            "Mean absolute error: 415826.73027459247\n",
            "R2 Score: 0.8021634888750728\n"
          ]
        }
      ],
      "source": [
        "model = RandomForestRegressor(n_estimators=200, max_depth=6, min_samples_leaf=2, min_samples_split=3)\n",
        "\n",
        "start = time()\n",
        "model.fit(X_train,y_train)\n",
        "end = time()\n",
        "\n",
        "print(f\"Durasi training: {end-start} detik\")\n",
        "\n",
        "y_train_pred = model.predict(X_train)\n",
        "y_test_pred = model.predict(X_test)\n",
        "\n",
        "print(\"=\"*20,\"TRAINING\",\"=\"*20)\n",
        "print(\"Mean absolute error:\",mean_absolute_error(y_train,y_train_pred))\n",
        "print(\"R2 Score:\",r2_score(y_train,y_train_pred))\n",
        "print(\"\\n\")\n",
        "print(\"=\"*20,\"TEST\",\"=\"*20)\n",
        "print(\"Mean absolute error:\",mean_absolute_error(y_test,y_test_pred))\n",
        "print(\"R2 Score:\",r2_score(y_test,y_test_pred))"
      ]
    },
    {
      "cell_type": "markdown",
      "metadata": {},
      "source": [
        "## Cross Validation"
      ]
    },
    {
      "cell_type": "markdown",
      "metadata": {},
      "source": [
        "melakukan cross validation pada semmua model untuk mengecek niali r2 score"
      ]
    },
    {
      "cell_type": "code",
      "execution_count": 221,
      "metadata": {},
      "outputs": [
        {
          "name": "stdout",
          "output_type": "stream",
          "text": [
            "\n",
            "Cross-Validation Scores for RandomForestRegressor:\n",
            "MAE: [262930.45376944 264443.79049094 248402.76396674 262456.4926808\n",
            " 296554.80178959]\n",
            "Rata-rata MAE: 266957.6605395012\n",
            "Standar deviasi MAE: 15893.856713117746\n",
            "R2: [0.84193957 0.90320924 0.90030628 0.90155178 0.81561816]\n",
            "Rata-rata R2: 0.8725250047409332\n",
            "Standar deviasi R2: 0.036687146723778485\n",
            "\n",
            "Cross-Validation Scores for DecisionTreeRegressor:\n",
            "MAE: [296065.09335915 302536.89453448 262509.32463068 294301.17929567\n",
            " 346627.45015209]\n",
            "Rata-rata MAE: 300407.98839441576\n",
            "Standar deviasi MAE: 26956.384981131672\n",
            "R2: [0.78187612 0.81196217 0.89818311 0.83488647 0.66840678]\n",
            "Rata-rata R2: 0.799062931070483\n",
            "Standar deviasi R2: 0.07568479746565468\n",
            "\n",
            "Cross-Validation Scores for SVR:\n",
            "MAE: [1158054.01031112 1174395.9442413  1145993.05213376 1204857.48207896\n",
            " 1165306.04141124]\n",
            "Rata-rata MAE: 1169721.3060352744\n",
            "Standar deviasi MAE: 19874.87606884451\n",
            "R2: [-0.03802899 -0.03767435 -0.03532663 -0.03742976 -0.03828104]\n",
            "Rata-rata R2: -0.03734815179462703\n",
            "Standar deviasi R2: 0.0010519926210424062\n",
            "\n",
            "Cross-Validation Scores for AdaBoostRegressor:\n",
            "MAE: [1656536.28718652  933748.45045409 1713329.05242677 1099933.22611024\n",
            " 1886239.32017396]\n",
            "Rata-rata MAE: 1457957.2672703152\n",
            "Standar deviasi MAE: 371766.0528667726\n",
            "R2: [ 0.19402918  0.60542929  0.10874027  0.62314818 -0.02146465]\n",
            "Rata-rata R2: 0.30197645213215435\n",
            "Standar deviasi R2: 0.26413704186014153\n",
            "\n",
            "Cross-Validation Scores for KNeighborsRegressor:\n",
            "MAE: [268527.60528743 275951.55241316 258355.05687058 277920.24596464\n",
            " 294476.03382014]\n",
            "Rata-rata MAE: 275046.09887118917\n",
            "Standar deviasi MAE: 11896.928859327363\n",
            "R2: [0.8685309  0.87065745 0.89593789 0.88740692 0.83748113]\n",
            "Rata-rata R2: 0.8720028574390908\n",
            "Standar deviasi R2: 0.0200787724602238\n"
          ]
        }
      ],
      "source": [
        "# Daftar model yang akan diuji\n",
        "models = {\n",
        "    'RandomForestRegressor': RandomForestRegressor(),\n",
        "    'DecisionTreeRegressor': DecisionTreeRegressor(),\n",
        "    'SVR': SVR(),\n",
        "    'AdaBoostRegressor': AdaBoostRegressor(),\n",
        "    'KNeighborsRegressor': KNeighborsRegressor()\n",
        "}\n",
        "\n",
        "# Tentukan metrik yang ingin dievaluasi\n",
        "scoring = {\n",
        "    'MAE': make_scorer(mean_absolute_error),\n",
        "    'R2': make_scorer(r2_score)\n",
        "}\n",
        "\n",
        "# Lakukan cross-validation untuk setiap model\n",
        "for model_name, model in models.items():\n",
        "    print(f\"\\nCross-Validation Scores for {model_name}:\")\n",
        "    cv_results = cross_validate(model, X_train, y_train, cv=5, scoring=scoring)\n",
        "    for metric in scoring:\n",
        "        scores = cv_results[f'test_{metric}']\n",
        "        print(f\"{metric}: {scores}\")\n",
        "        print(f\"Rata-rata {metric}: {scores.mean()}\")\n",
        "        print(f\"Standar deviasi {metric}: {scores.std()}\")"
      ]
    },
    {
      "cell_type": "markdown",
      "metadata": {},
      "source": [
        "# **Model Training**"
      ]
    },
    {
      "cell_type": "markdown",
      "metadata": {
        "id": "qTGmUb7mIGY-"
      },
      "source": [
        "## Model Improvement"
      ]
    },
    {
      "cell_type": "code",
      "execution_count": 223,
      "metadata": {
        "colab": {
          "base_uri": "https://localhost:8080/",
          "height": 609
        },
        "id": "CoDtXX5cpIKP",
        "outputId": "be60ba87-7929-43d3-9529-a473b3567296"
      },
      "outputs": [
        {
          "data": {
            "text/html": [
              "<div>\n",
              "<style scoped>\n",
              "    .dataframe tbody tr th:only-of-type {\n",
              "        vertical-align: middle;\n",
              "    }\n",
              "\n",
              "    .dataframe tbody tr th {\n",
              "        vertical-align: top;\n",
              "    }\n",
              "\n",
              "    .dataframe thead th {\n",
              "        text-align: right;\n",
              "    }\n",
              "</style>\n",
              "<table border=\"1\" class=\"dataframe\">\n",
              "  <thead>\n",
              "    <tr style=\"text-align: right;\">\n",
              "      <th></th>\n",
              "      <th>Company Name</th>\n",
              "      <th>Model Year</th>\n",
              "      <th>Mileage</th>\n",
              "      <th>Engine Type</th>\n",
              "      <th>Engine Capacity</th>\n",
              "      <th>Assembly</th>\n",
              "      <th>Body Type</th>\n",
              "      <th>Transmission Type</th>\n",
              "      <th>Registration Status</th>\n",
              "    </tr>\n",
              "  </thead>\n",
              "  <tbody>\n",
              "    <tr>\n",
              "      <th>8144</th>\n",
              "      <td>Honda</td>\n",
              "      <td>2007</td>\n",
              "      <td>98000.0</td>\n",
              "      <td>Petrol</td>\n",
              "      <td>1750.0</td>\n",
              "      <td>Imported</td>\n",
              "      <td>SUV</td>\n",
              "      <td>Automatic</td>\n",
              "      <td>Registered</td>\n",
              "    </tr>\n",
              "    <tr>\n",
              "      <th>43236</th>\n",
              "      <td>Toyota</td>\n",
              "      <td>2016</td>\n",
              "      <td>39000.0</td>\n",
              "      <td>Petrol</td>\n",
              "      <td>1000.0</td>\n",
              "      <td>Imported</td>\n",
              "      <td>Hatchback</td>\n",
              "      <td>Automatic</td>\n",
              "      <td>Un-Registered</td>\n",
              "    </tr>\n",
              "    <tr>\n",
              "      <th>33434</th>\n",
              "      <td>Honda</td>\n",
              "      <td>2015</td>\n",
              "      <td>49000.0</td>\n",
              "      <td>Petrol</td>\n",
              "      <td>1750.0</td>\n",
              "      <td>Local</td>\n",
              "      <td>Sedan</td>\n",
              "      <td>Automatic</td>\n",
              "      <td>Registered</td>\n",
              "    </tr>\n",
              "    <tr>\n",
              "      <th>35018</th>\n",
              "      <td>Daihatsu</td>\n",
              "      <td>2006</td>\n",
              "      <td>120000.0</td>\n",
              "      <td>Petrol</td>\n",
              "      <td>800.0</td>\n",
              "      <td>Local</td>\n",
              "      <td>Hatchback</td>\n",
              "      <td>Manual</td>\n",
              "      <td>Registered</td>\n",
              "    </tr>\n",
              "    <tr>\n",
              "      <th>39917</th>\n",
              "      <td>Suzuki</td>\n",
              "      <td>2008</td>\n",
              "      <td>100000.0</td>\n",
              "      <td>Petrol</td>\n",
              "      <td>800.0</td>\n",
              "      <td>Local</td>\n",
              "      <td>Hatchback</td>\n",
              "      <td>Manual</td>\n",
              "      <td>Registered</td>\n",
              "    </tr>\n",
              "    <tr>\n",
              "      <th>...</th>\n",
              "      <td>...</td>\n",
              "      <td>...</td>\n",
              "      <td>...</td>\n",
              "      <td>...</td>\n",
              "      <td>...</td>\n",
              "      <td>...</td>\n",
              "      <td>...</td>\n",
              "      <td>...</td>\n",
              "      <td>...</td>\n",
              "    </tr>\n",
              "    <tr>\n",
              "      <th>1076</th>\n",
              "      <td>Honda</td>\n",
              "      <td>2015</td>\n",
              "      <td>82311.0</td>\n",
              "      <td>Petrol</td>\n",
              "      <td>1300.0</td>\n",
              "      <td>Local</td>\n",
              "      <td>Sedan</td>\n",
              "      <td>Manual</td>\n",
              "      <td>Registered</td>\n",
              "    </tr>\n",
              "    <tr>\n",
              "      <th>40141</th>\n",
              "      <td>Toyota</td>\n",
              "      <td>2014</td>\n",
              "      <td>50000.0</td>\n",
              "      <td>Petrol</td>\n",
              "      <td>1750.0</td>\n",
              "      <td>Imported</td>\n",
              "      <td>Sedan</td>\n",
              "      <td>Automatic</td>\n",
              "      <td>Registered</td>\n",
              "    </tr>\n",
              "    <tr>\n",
              "      <th>39244</th>\n",
              "      <td>Suzuki</td>\n",
              "      <td>2017</td>\n",
              "      <td>85000.0</td>\n",
              "      <td>Petrol</td>\n",
              "      <td>1000.0</td>\n",
              "      <td>Local</td>\n",
              "      <td>Hatchback</td>\n",
              "      <td>Manual</td>\n",
              "      <td>Registered</td>\n",
              "    </tr>\n",
              "    <tr>\n",
              "      <th>32756</th>\n",
              "      <td>Suzuki</td>\n",
              "      <td>2005</td>\n",
              "      <td>100000.0</td>\n",
              "      <td>Petrol</td>\n",
              "      <td>1000.0</td>\n",
              "      <td>Local</td>\n",
              "      <td>Hatchback</td>\n",
              "      <td>Manual</td>\n",
              "      <td>Registered</td>\n",
              "    </tr>\n",
              "    <tr>\n",
              "      <th>12985</th>\n",
              "      <td>Toyota</td>\n",
              "      <td>2006</td>\n",
              "      <td>19000.0</td>\n",
              "      <td>Petrol</td>\n",
              "      <td>1300.0</td>\n",
              "      <td>Local</td>\n",
              "      <td>Sedan</td>\n",
              "      <td>Manual</td>\n",
              "      <td>Registered</td>\n",
              "    </tr>\n",
              "  </tbody>\n",
              "</table>\n",
              "<p>32528 rows × 9 columns</p>\n",
              "</div>"
            ],
            "text/plain": [
              "      Company Name  Model Year   Mileage Engine Type  Engine Capacity  \\\n",
              "8144         Honda        2007   98000.0      Petrol           1750.0   \n",
              "43236       Toyota        2016   39000.0      Petrol           1000.0   \n",
              "33434        Honda        2015   49000.0      Petrol           1750.0   \n",
              "35018     Daihatsu        2006  120000.0      Petrol            800.0   \n",
              "39917       Suzuki        2008  100000.0      Petrol            800.0   \n",
              "...            ...         ...       ...         ...              ...   \n",
              "1076         Honda        2015   82311.0      Petrol           1300.0   \n",
              "40141       Toyota        2014   50000.0      Petrol           1750.0   \n",
              "39244       Suzuki        2017   85000.0      Petrol           1000.0   \n",
              "32756       Suzuki        2005  100000.0      Petrol           1000.0   \n",
              "12985       Toyota        2006   19000.0      Petrol           1300.0   \n",
              "\n",
              "       Assembly  Body Type Transmission Type Registration Status  \n",
              "8144   Imported        SUV         Automatic          Registered  \n",
              "43236  Imported  Hatchback         Automatic       Un-Registered  \n",
              "33434     Local      Sedan         Automatic          Registered  \n",
              "35018     Local  Hatchback            Manual          Registered  \n",
              "39917     Local  Hatchback            Manual          Registered  \n",
              "...         ...        ...               ...                 ...  \n",
              "1076      Local      Sedan            Manual          Registered  \n",
              "40141  Imported      Sedan         Automatic          Registered  \n",
              "39244     Local  Hatchback            Manual          Registered  \n",
              "32756     Local  Hatchback            Manual          Registered  \n",
              "12985     Local      Sedan            Manual          Registered  \n",
              "\n",
              "[32528 rows x 9 columns]"
            ]
          },
          "execution_count": 223,
          "metadata": {},
          "output_type": "execute_result"
        }
      ],
      "source": [
        "# Feature Selection\n",
        "num_cols = ['Model Year', 'Mileage', 'Engine Capacity']\n",
        "cat_cols = ['Company Name', 'Engine Type', 'Assembly', 'Body Type', 'Transmission Type', 'Registration Status']\n",
        "\n",
        "X_train = new_train.drop(columns='Price')\n",
        "X_test = test.drop(columns='Price')\n",
        "\n",
        "y_train = new_train['Price']\n",
        "y_test = test['Price']\n",
        "\n",
        "X_train"
      ]
    },
    {
      "cell_type": "markdown",
      "metadata": {},
      "source": [
        "#### **Pipeline**"
      ]
    },
    {
      "cell_type": "code",
      "execution_count": 224,
      "metadata": {
        "colab": {
          "base_uri": "https://localhost:8080/",
          "height": 188
        },
        "id": "p6au2a7EpN6q",
        "outputId": "0d80df38-41d5-4823-c087-7152aff69e3a"
      },
      "outputs": [
        {
          "data": {
            "text/html": [
              "<style>#sk-container-id-9 {color: black;background-color: white;}#sk-container-id-9 pre{padding: 0;}#sk-container-id-9 div.sk-toggleable {background-color: white;}#sk-container-id-9 label.sk-toggleable__label {cursor: pointer;display: block;width: 100%;margin-bottom: 0;padding: 0.3em;box-sizing: border-box;text-align: center;}#sk-container-id-9 label.sk-toggleable__label-arrow:before {content: \"▸\";float: left;margin-right: 0.25em;color: #696969;}#sk-container-id-9 label.sk-toggleable__label-arrow:hover:before {color: black;}#sk-container-id-9 div.sk-estimator:hover label.sk-toggleable__label-arrow:before {color: black;}#sk-container-id-9 div.sk-toggleable__content {max-height: 0;max-width: 0;overflow: hidden;text-align: left;background-color: #f0f8ff;}#sk-container-id-9 div.sk-toggleable__content pre {margin: 0.2em;color: black;border-radius: 0.25em;background-color: #f0f8ff;}#sk-container-id-9 input.sk-toggleable__control:checked~div.sk-toggleable__content {max-height: 200px;max-width: 100%;overflow: auto;}#sk-container-id-9 input.sk-toggleable__control:checked~label.sk-toggleable__label-arrow:before {content: \"▾\";}#sk-container-id-9 div.sk-estimator input.sk-toggleable__control:checked~label.sk-toggleable__label {background-color: #d4ebff;}#sk-container-id-9 div.sk-label input.sk-toggleable__control:checked~label.sk-toggleable__label {background-color: #d4ebff;}#sk-container-id-9 input.sk-hidden--visually {border: 0;clip: rect(1px 1px 1px 1px);clip: rect(1px, 1px, 1px, 1px);height: 1px;margin: -1px;overflow: hidden;padding: 0;position: absolute;width: 1px;}#sk-container-id-9 div.sk-estimator {font-family: monospace;background-color: #f0f8ff;border: 1px dotted black;border-radius: 0.25em;box-sizing: border-box;margin-bottom: 0.5em;}#sk-container-id-9 div.sk-estimator:hover {background-color: #d4ebff;}#sk-container-id-9 div.sk-parallel-item::after {content: \"\";width: 100%;border-bottom: 1px solid gray;flex-grow: 1;}#sk-container-id-9 div.sk-label:hover label.sk-toggleable__label {background-color: #d4ebff;}#sk-container-id-9 div.sk-serial::before {content: \"\";position: absolute;border-left: 1px solid gray;box-sizing: border-box;top: 0;bottom: 0;left: 50%;z-index: 0;}#sk-container-id-9 div.sk-serial {display: flex;flex-direction: column;align-items: center;background-color: white;padding-right: 0.2em;padding-left: 0.2em;position: relative;}#sk-container-id-9 div.sk-item {position: relative;z-index: 1;}#sk-container-id-9 div.sk-parallel {display: flex;align-items: stretch;justify-content: center;background-color: white;position: relative;}#sk-container-id-9 div.sk-item::before, #sk-container-id-9 div.sk-parallel-item::before {content: \"\";position: absolute;border-left: 1px solid gray;box-sizing: border-box;top: 0;bottom: 0;left: 50%;z-index: -1;}#sk-container-id-9 div.sk-parallel-item {display: flex;flex-direction: column;z-index: 1;position: relative;background-color: white;}#sk-container-id-9 div.sk-parallel-item:first-child::after {align-self: flex-end;width: 50%;}#sk-container-id-9 div.sk-parallel-item:last-child::after {align-self: flex-start;width: 50%;}#sk-container-id-9 div.sk-parallel-item:only-child::after {width: 0;}#sk-container-id-9 div.sk-dashed-wrapped {border: 1px dashed gray;margin: 0 0.4em 0.5em 0.4em;box-sizing: border-box;padding-bottom: 0.4em;background-color: white;}#sk-container-id-9 div.sk-label label {font-family: monospace;font-weight: bold;display: inline-block;line-height: 1.2em;}#sk-container-id-9 div.sk-label-container {text-align: center;}#sk-container-id-9 div.sk-container {/* jupyter's `normalize.less` sets `[hidden] { display: none; }` but bootstrap.min.css set `[hidden] { display: none !important; }` so we also need the `!important` here to be able to override the default hidden behavior on the sphinx rendered scikit-learn.org. See: https://github.com/scikit-learn/scikit-learn/issues/21755 */display: inline-block !important;position: relative;}#sk-container-id-9 div.sk-text-repr-fallback {display: none;}</style><div id=\"sk-container-id-9\" class=\"sk-top-container\"><div class=\"sk-text-repr-fallback\"><pre>Pipeline(steps=[(&#x27;preprocess&#x27;,\n",
              "                 ColumnTransformer(transformers=[(&#x27;num&#x27;, MinMaxScaler(),\n",
              "                                                  [&#x27;Model Year&#x27;, &#x27;Mileage&#x27;,\n",
              "                                                   &#x27;Engine Capacity&#x27;]),\n",
              "                                                 (&#x27;cat&#x27;,\n",
              "                                                  OrdinalEncoder(handle_unknown=&#x27;use_encoded_value&#x27;,\n",
              "                                                                 unknown_value=20),\n",
              "                                                  [&#x27;Company Name&#x27;,\n",
              "                                                   &#x27;Engine Type&#x27;, &#x27;Assembly&#x27;,\n",
              "                                                   &#x27;Body Type&#x27;,\n",
              "                                                   &#x27;Transmission Type&#x27;,\n",
              "                                                   &#x27;Registration Status&#x27;])])),\n",
              "                (&#x27;model&#x27;, RandomForestRegressor())])</pre><b>In a Jupyter environment, please rerun this cell to show the HTML representation or trust the notebook. <br />On GitHub, the HTML representation is unable to render, please try loading this page with nbviewer.org.</b></div><div class=\"sk-container\" hidden><div class=\"sk-item sk-dashed-wrapped\"><div class=\"sk-label-container\"><div class=\"sk-label sk-toggleable\"><input class=\"sk-toggleable__control sk-hidden--visually\" id=\"sk-estimator-id-41\" type=\"checkbox\" ><label for=\"sk-estimator-id-41\" class=\"sk-toggleable__label sk-toggleable__label-arrow\">Pipeline</label><div class=\"sk-toggleable__content\"><pre>Pipeline(steps=[(&#x27;preprocess&#x27;,\n",
              "                 ColumnTransformer(transformers=[(&#x27;num&#x27;, MinMaxScaler(),\n",
              "                                                  [&#x27;Model Year&#x27;, &#x27;Mileage&#x27;,\n",
              "                                                   &#x27;Engine Capacity&#x27;]),\n",
              "                                                 (&#x27;cat&#x27;,\n",
              "                                                  OrdinalEncoder(handle_unknown=&#x27;use_encoded_value&#x27;,\n",
              "                                                                 unknown_value=20),\n",
              "                                                  [&#x27;Company Name&#x27;,\n",
              "                                                   &#x27;Engine Type&#x27;, &#x27;Assembly&#x27;,\n",
              "                                                   &#x27;Body Type&#x27;,\n",
              "                                                   &#x27;Transmission Type&#x27;,\n",
              "                                                   &#x27;Registration Status&#x27;])])),\n",
              "                (&#x27;model&#x27;, RandomForestRegressor())])</pre></div></div></div><div class=\"sk-serial\"><div class=\"sk-item sk-dashed-wrapped\"><div class=\"sk-label-container\"><div class=\"sk-label sk-toggleable\"><input class=\"sk-toggleable__control sk-hidden--visually\" id=\"sk-estimator-id-42\" type=\"checkbox\" ><label for=\"sk-estimator-id-42\" class=\"sk-toggleable__label sk-toggleable__label-arrow\">preprocess: ColumnTransformer</label><div class=\"sk-toggleable__content\"><pre>ColumnTransformer(transformers=[(&#x27;num&#x27;, MinMaxScaler(),\n",
              "                                 [&#x27;Model Year&#x27;, &#x27;Mileage&#x27;, &#x27;Engine Capacity&#x27;]),\n",
              "                                (&#x27;cat&#x27;,\n",
              "                                 OrdinalEncoder(handle_unknown=&#x27;use_encoded_value&#x27;,\n",
              "                                                unknown_value=20),\n",
              "                                 [&#x27;Company Name&#x27;, &#x27;Engine Type&#x27;, &#x27;Assembly&#x27;,\n",
              "                                  &#x27;Body Type&#x27;, &#x27;Transmission Type&#x27;,\n",
              "                                  &#x27;Registration Status&#x27;])])</pre></div></div></div><div class=\"sk-parallel\"><div class=\"sk-parallel-item\"><div class=\"sk-item\"><div class=\"sk-label-container\"><div class=\"sk-label sk-toggleable\"><input class=\"sk-toggleable__control sk-hidden--visually\" id=\"sk-estimator-id-43\" type=\"checkbox\" ><label for=\"sk-estimator-id-43\" class=\"sk-toggleable__label sk-toggleable__label-arrow\">num</label><div class=\"sk-toggleable__content\"><pre>[&#x27;Model Year&#x27;, &#x27;Mileage&#x27;, &#x27;Engine Capacity&#x27;]</pre></div></div></div><div class=\"sk-serial\"><div class=\"sk-item\"><div class=\"sk-estimator sk-toggleable\"><input class=\"sk-toggleable__control sk-hidden--visually\" id=\"sk-estimator-id-44\" type=\"checkbox\" ><label for=\"sk-estimator-id-44\" class=\"sk-toggleable__label sk-toggleable__label-arrow\">MinMaxScaler</label><div class=\"sk-toggleable__content\"><pre>MinMaxScaler()</pre></div></div></div></div></div></div><div class=\"sk-parallel-item\"><div class=\"sk-item\"><div class=\"sk-label-container\"><div class=\"sk-label sk-toggleable\"><input class=\"sk-toggleable__control sk-hidden--visually\" id=\"sk-estimator-id-45\" type=\"checkbox\" ><label for=\"sk-estimator-id-45\" class=\"sk-toggleable__label sk-toggleable__label-arrow\">cat</label><div class=\"sk-toggleable__content\"><pre>[&#x27;Company Name&#x27;, &#x27;Engine Type&#x27;, &#x27;Assembly&#x27;, &#x27;Body Type&#x27;, &#x27;Transmission Type&#x27;, &#x27;Registration Status&#x27;]</pre></div></div></div><div class=\"sk-serial\"><div class=\"sk-item\"><div class=\"sk-estimator sk-toggleable\"><input class=\"sk-toggleable__control sk-hidden--visually\" id=\"sk-estimator-id-46\" type=\"checkbox\" ><label for=\"sk-estimator-id-46\" class=\"sk-toggleable__label sk-toggleable__label-arrow\">OrdinalEncoder</label><div class=\"sk-toggleable__content\"><pre>OrdinalEncoder(handle_unknown=&#x27;use_encoded_value&#x27;, unknown_value=20)</pre></div></div></div></div></div></div></div></div><div class=\"sk-item\"><div class=\"sk-estimator sk-toggleable\"><input class=\"sk-toggleable__control sk-hidden--visually\" id=\"sk-estimator-id-47\" type=\"checkbox\" ><label for=\"sk-estimator-id-47\" class=\"sk-toggleable__label sk-toggleable__label-arrow\">RandomForestRegressor</label><div class=\"sk-toggleable__content\"><pre>RandomForestRegressor()</pre></div></div></div></div></div></div></div>"
            ],
            "text/plain": [
              "Pipeline(steps=[('preprocess',\n",
              "                 ColumnTransformer(transformers=[('num', MinMaxScaler(),\n",
              "                                                  ['Model Year', 'Mileage',\n",
              "                                                   'Engine Capacity']),\n",
              "                                                 ('cat',\n",
              "                                                  OrdinalEncoder(handle_unknown='use_encoded_value',\n",
              "                                                                 unknown_value=20),\n",
              "                                                  ['Company Name',\n",
              "                                                   'Engine Type', 'Assembly',\n",
              "                                                   'Body Type',\n",
              "                                                   'Transmission Type',\n",
              "                                                   'Registration Status'])])),\n",
              "                ('model', RandomForestRegressor())])"
            ]
          },
          "execution_count": 224,
          "metadata": {},
          "output_type": "execute_result"
        }
      ],
      "source": [
        "scaler = MinMaxScaler()\n",
        "encoding = OrdinalEncoder(handle_unknown='use_encoded_value',unknown_value=20)\n",
        "model = RandomForestRegressor()\n",
        "\n",
        "preprocess = ColumnTransformer([('num',scaler,num_cols),\n",
        "                               ('cat',encoding,cat_cols)])\n",
        "pipe = Pipeline([('preprocess',preprocess),('model',model)])\n",
        "\n",
        "pipe"
      ]
    },
    {
      "cell_type": "markdown",
      "metadata": {
        "id": "RzLg4Cm3xXoB"
      },
      "source": [
        "### RandomizedSearch"
      ]
    },
    {
      "cell_type": "markdown",
      "metadata": {},
      "source": [
        "hyperparameter tunning dengan memasukkan model terbaik, encode, dan scaler yang ingin di pakai"
      ]
    },
    {
      "cell_type": "code",
      "execution_count": 225,
      "metadata": {
        "colab": {
          "base_uri": "https://localhost:8080/",
          "height": 1000
        },
        "id": "y2yESzSHxduu",
        "outputId": "a752c295-f78e-4105-c6e5-c6a4a73015a4"
      },
      "outputs": [
        {
          "name": "stdout",
          "output_type": "stream",
          "text": [
            "Fitting 3 folds for each of 50 candidates, totalling 150 fits\n",
            "[CV 1/3] END model=RandomForestRegressor(), model__max_depth=6, model__n_estimators=150, preprocess__cat=OrdinalEncoder(handle_unknown='use_encoded_value', unknown_value=20), preprocess__num=StandardScaler();, score=nan total time=   0.0s\n",
            "[CV 2/3] END model=RandomForestRegressor(), model__max_depth=6, model__n_estimators=150, preprocess__cat=OrdinalEncoder(handle_unknown='use_encoded_value', unknown_value=20), preprocess__num=StandardScaler();, score=nan total time=   0.0s\n",
            "[CV 3/3] END model=RandomForestRegressor(), model__max_depth=6, model__n_estimators=150, preprocess__cat=OrdinalEncoder(handle_unknown='use_encoded_value', unknown_value=20), preprocess__num=StandardScaler();, score=nan total time=   0.0s\n",
            "[CV 1/3] END model=RandomForestRegressor(), model__max_depth=7, model__n_estimators=100, preprocess__cat=OrdinalEncoder(handle_unknown='use_encoded_value', unknown_value=20), preprocess__num=RobustScaler();, score=nan total time=   0.0s\n",
            "[CV 2/3] END model=RandomForestRegressor(), model__max_depth=7, model__n_estimators=100, preprocess__cat=OrdinalEncoder(handle_unknown='use_encoded_value', unknown_value=20), preprocess__num=RobustScaler();, score=nan total time=   0.0s\n",
            "[CV 3/3] END model=RandomForestRegressor(), model__max_depth=7, model__n_estimators=100, preprocess__cat=OrdinalEncoder(handle_unknown='use_encoded_value', unknown_value=20), preprocess__num=RobustScaler();, score=nan total time=   0.0s\n",
            "[CV 1/3] END model=RandomForestRegressor(), model__max_depth=8, model__n_estimators=250, preprocess__cat=OrdinalEncoder(handle_unknown='use_encoded_value', unknown_value=20), preprocess__num=MinMaxScaler();, score=nan total time=   0.0s\n",
            "[CV 2/3] END model=RandomForestRegressor(), model__max_depth=8, model__n_estimators=250, preprocess__cat=OrdinalEncoder(handle_unknown='use_encoded_value', unknown_value=20), preprocess__num=MinMaxScaler();, score=nan total time=   0.0s\n",
            "[CV 3/3] END model=RandomForestRegressor(), model__max_depth=8, model__n_estimators=250, preprocess__cat=OrdinalEncoder(handle_unknown='use_encoded_value', unknown_value=20), preprocess__num=MinMaxScaler();, score=nan total time=   0.0s\n",
            "[CV 1/3] END model=RandomForestRegressor(), model__max_depth=2, model__n_estimators=300, preprocess__cat=OrdinalEncoder(handle_unknown='use_encoded_value', unknown_value=20), preprocess__num=RobustScaler();, score=nan total time=   0.0s\n",
            "[CV 2/3] END model=RandomForestRegressor(), model__max_depth=2, model__n_estimators=300, preprocess__cat=OrdinalEncoder(handle_unknown='use_encoded_value', unknown_value=20), preprocess__num=RobustScaler();, score=nan total time=   0.0s\n",
            "[CV 3/3] END model=RandomForestRegressor(), model__max_depth=2, model__n_estimators=300, preprocess__cat=OrdinalEncoder(handle_unknown='use_encoded_value', unknown_value=20), preprocess__num=RobustScaler();, score=nan total time=   0.0s\n",
            "[CV 1/3] END model=RandomForestRegressor(), model__max_depth=6, model__n_estimators=200, preprocess__cat=OrdinalEncoder(handle_unknown='use_encoded_value', unknown_value=20), preprocess__num=StandardScaler();, score=nan total time=   0.0s\n",
            "[CV 2/3] END model=RandomForestRegressor(), model__max_depth=6, model__n_estimators=200, preprocess__cat=OrdinalEncoder(handle_unknown='use_encoded_value', unknown_value=20), preprocess__num=StandardScaler();, score=nan total time=   0.0s\n",
            "[CV 3/3] END model=RandomForestRegressor(), model__max_depth=6, model__n_estimators=200, preprocess__cat=OrdinalEncoder(handle_unknown='use_encoded_value', unknown_value=20), preprocess__num=StandardScaler();, score=nan total time=   0.0s\n",
            "[CV 1/3] END model=RandomForestRegressor(), model__max_depth=8, model__n_estimators=100, preprocess__cat=OrdinalEncoder(handle_unknown='use_encoded_value', unknown_value=20), preprocess__num=MinMaxScaler();, score=nan total time=   0.0s\n",
            "[CV 2/3] END model=RandomForestRegressor(), model__max_depth=8, model__n_estimators=100, preprocess__cat=OrdinalEncoder(handle_unknown='use_encoded_value', unknown_value=20), preprocess__num=MinMaxScaler();, score=nan total time=   0.0s\n",
            "[CV 3/3] END model=RandomForestRegressor(), model__max_depth=8, model__n_estimators=100, preprocess__cat=OrdinalEncoder(handle_unknown='use_encoded_value', unknown_value=20), preprocess__num=MinMaxScaler();, score=nan total time=   0.0s\n",
            "[CV 1/3] END model=RandomForestRegressor(), model__max_depth=7, model__n_estimators=150, preprocess__cat=OrdinalEncoder(handle_unknown='use_encoded_value', unknown_value=20), preprocess__num=RobustScaler();, score=nan total time=   0.0s\n",
            "[CV 2/3] END model=RandomForestRegressor(), model__max_depth=7, model__n_estimators=150, preprocess__cat=OrdinalEncoder(handle_unknown='use_encoded_value', unknown_value=20), preprocess__num=RobustScaler();, score=nan total time=   0.0s\n",
            "[CV 3/3] END model=RandomForestRegressor(), model__max_depth=7, model__n_estimators=150, preprocess__cat=OrdinalEncoder(handle_unknown='use_encoded_value', unknown_value=20), preprocess__num=RobustScaler();, score=nan total time=   0.0s\n",
            "[CV 1/3] END model=RandomForestRegressor(), model__max_depth=3, model__n_estimators=100, preprocess__cat=OrdinalEncoder(handle_unknown='use_encoded_value', unknown_value=20), preprocess__num=MinMaxScaler();, score=nan total time=   0.0s\n",
            "[CV 2/3] END model=RandomForestRegressor(), model__max_depth=3, model__n_estimators=100, preprocess__cat=OrdinalEncoder(handle_unknown='use_encoded_value', unknown_value=20), preprocess__num=MinMaxScaler();, score=nan total time=   0.0s\n",
            "[CV 3/3] END model=RandomForestRegressor(), model__max_depth=3, model__n_estimators=100, preprocess__cat=OrdinalEncoder(handle_unknown='use_encoded_value', unknown_value=20), preprocess__num=MinMaxScaler();, score=nan total time=   0.0s\n",
            "[CV 1/3] END model=RandomForestRegressor(), model__max_depth=8, model__n_estimators=100, preprocess__cat=OneHotEncoder(handle_unknown='ignore'), preprocess__num=MinMaxScaler();, score=0.874 total time=  13.3s\n",
            "[CV 2/3] END model=RandomForestRegressor(), model__max_depth=8, model__n_estimators=100, preprocess__cat=OneHotEncoder(handle_unknown='ignore'), preprocess__num=MinMaxScaler();, score=0.890 total time=  17.6s\n",
            "[CV 3/3] END model=RandomForestRegressor(), model__max_depth=8, model__n_estimators=100, preprocess__cat=OneHotEncoder(handle_unknown='ignore'), preprocess__num=MinMaxScaler();, score=0.852 total time=  22.4s\n",
            "[CV 1/3] END model=RandomForestRegressor(), model__max_depth=6, model__n_estimators=100, preprocess__cat=OrdinalEncoder(handle_unknown='use_encoded_value', unknown_value=20), preprocess__num=RobustScaler();, score=nan total time=   0.0s\n",
            "[CV 2/3] END model=RandomForestRegressor(), model__max_depth=6, model__n_estimators=100, preprocess__cat=OrdinalEncoder(handle_unknown='use_encoded_value', unknown_value=20), preprocess__num=RobustScaler();, score=nan total time=   0.0s\n",
            "[CV 3/3] END model=RandomForestRegressor(), model__max_depth=6, model__n_estimators=100, preprocess__cat=OrdinalEncoder(handle_unknown='use_encoded_value', unknown_value=20), preprocess__num=RobustScaler();, score=nan total time=   0.0s\n",
            "[CV 1/3] END model=RandomForestRegressor(), model__max_depth=5, model__n_estimators=150, preprocess__cat=OneHotEncoder(handle_unknown='ignore'), preprocess__num=MinMaxScaler();, score=0.800 total time=   8.1s\n",
            "[CV 2/3] END model=RandomForestRegressor(), model__max_depth=5, model__n_estimators=150, preprocess__cat=OneHotEncoder(handle_unknown='ignore'), preprocess__num=MinMaxScaler();, score=0.818 total time=   6.8s\n",
            "[CV 3/3] END model=RandomForestRegressor(), model__max_depth=5, model__n_estimators=150, preprocess__cat=OneHotEncoder(handle_unknown='ignore'), preprocess__num=MinMaxScaler();, score=0.739 total time=   6.6s\n",
            "[CV 1/3] END model=RandomForestRegressor(), model__max_depth=5, model__n_estimators=300, preprocess__cat=OneHotEncoder(handle_unknown='ignore'), preprocess__num=MinMaxScaler();, score=0.792 total time=  23.0s\n",
            "[CV 2/3] END model=RandomForestRegressor(), model__max_depth=5, model__n_estimators=300, preprocess__cat=OneHotEncoder(handle_unknown='ignore'), preprocess__num=MinMaxScaler();, score=0.819 total time=  16.6s\n",
            "[CV 3/3] END model=RandomForestRegressor(), model__max_depth=5, model__n_estimators=300, preprocess__cat=OneHotEncoder(handle_unknown='ignore'), preprocess__num=MinMaxScaler();, score=0.741 total time=  13.0s\n",
            "[CV 1/3] END model=RandomForestRegressor(), model__max_depth=4, model__n_estimators=100, preprocess__cat=OneHotEncoder(handle_unknown='ignore'), preprocess__num=StandardScaler();, score=0.724 total time=   3.4s\n",
            "[CV 2/3] END model=RandomForestRegressor(), model__max_depth=4, model__n_estimators=100, preprocess__cat=OneHotEncoder(handle_unknown='ignore'), preprocess__num=StandardScaler();, score=0.756 total time=   2.9s\n",
            "[CV 3/3] END model=RandomForestRegressor(), model__max_depth=4, model__n_estimators=100, preprocess__cat=OneHotEncoder(handle_unknown='ignore'), preprocess__num=StandardScaler();, score=0.673 total time=   2.8s\n",
            "[CV 1/3] END model=RandomForestRegressor(), model__max_depth=2, model__n_estimators=300, preprocess__cat=OneHotEncoder(handle_unknown='ignore'), preprocess__num=StandardScaler();, score=0.518 total time=   4.0s\n",
            "[CV 2/3] END model=RandomForestRegressor(), model__max_depth=2, model__n_estimators=300, preprocess__cat=OneHotEncoder(handle_unknown='ignore'), preprocess__num=StandardScaler();, score=0.542 total time=   4.3s\n",
            "[CV 3/3] END model=RandomForestRegressor(), model__max_depth=2, model__n_estimators=300, preprocess__cat=OneHotEncoder(handle_unknown='ignore'), preprocess__num=StandardScaler();, score=0.454 total time=   4.2s\n",
            "[CV 1/3] END model=RandomForestRegressor(), model__max_depth=7, model__n_estimators=200, preprocess__cat=OrdinalEncoder(handle_unknown='use_encoded_value', unknown_value=20), preprocess__num=RobustScaler();, score=nan total time=   0.0s\n",
            "[CV 2/3] END model=RandomForestRegressor(), model__max_depth=7, model__n_estimators=200, preprocess__cat=OrdinalEncoder(handle_unknown='use_encoded_value', unknown_value=20), preprocess__num=RobustScaler();, score=nan total time=   0.0s\n",
            "[CV 3/3] END model=RandomForestRegressor(), model__max_depth=7, model__n_estimators=200, preprocess__cat=OrdinalEncoder(handle_unknown='use_encoded_value', unknown_value=20), preprocess__num=RobustScaler();, score=nan total time=   0.0s\n",
            "[CV 1/3] END model=RandomForestRegressor(), model__max_depth=7, model__n_estimators=250, preprocess__cat=OneHotEncoder(handle_unknown='ignore'), preprocess__num=StandardScaler();, score=0.865 total time=  21.3s\n",
            "[CV 2/3] END model=RandomForestRegressor(), model__max_depth=7, model__n_estimators=250, preprocess__cat=OneHotEncoder(handle_unknown='ignore'), preprocess__num=StandardScaler();, score=0.877 total time=  22.2s\n",
            "[CV 3/3] END model=RandomForestRegressor(), model__max_depth=7, model__n_estimators=250, preprocess__cat=OneHotEncoder(handle_unknown='ignore'), preprocess__num=StandardScaler();, score=0.843 total time=  21.4s\n",
            "[CV 1/3] END model=RandomForestRegressor(), model__max_depth=7, model__n_estimators=200, preprocess__cat=OneHotEncoder(handle_unknown='ignore'), preprocess__num=StandardScaler();, score=0.866 total time=  17.8s\n",
            "[CV 2/3] END model=RandomForestRegressor(), model__max_depth=7, model__n_estimators=200, preprocess__cat=OneHotEncoder(handle_unknown='ignore'), preprocess__num=StandardScaler();, score=0.875 total time=  29.2s\n",
            "[CV 3/3] END model=RandomForestRegressor(), model__max_depth=7, model__n_estimators=200, preprocess__cat=OneHotEncoder(handle_unknown='ignore'), preprocess__num=StandardScaler();, score=0.846 total time=  17.7s\n",
            "[CV 1/3] END model=RandomForestRegressor(), model__max_depth=6, model__n_estimators=250, preprocess__cat=OrdinalEncoder(handle_unknown='use_encoded_value', unknown_value=20), preprocess__num=MinMaxScaler();, score=nan total time=   0.0s\n",
            "[CV 2/3] END model=RandomForestRegressor(), model__max_depth=6, model__n_estimators=250, preprocess__cat=OrdinalEncoder(handle_unknown='use_encoded_value', unknown_value=20), preprocess__num=MinMaxScaler();, score=nan total time=   0.0s\n",
            "[CV 3/3] END model=RandomForestRegressor(), model__max_depth=6, model__n_estimators=250, preprocess__cat=OrdinalEncoder(handle_unknown='use_encoded_value', unknown_value=20), preprocess__num=MinMaxScaler();, score=nan total time=   0.0s\n",
            "[CV 1/3] END model=RandomForestRegressor(), model__max_depth=3, model__n_estimators=250, preprocess__cat=OneHotEncoder(handle_unknown='ignore'), preprocess__num=StandardScaler();, score=0.637 total time=   5.4s\n",
            "[CV 2/3] END model=RandomForestRegressor(), model__max_depth=3, model__n_estimators=250, preprocess__cat=OneHotEncoder(handle_unknown='ignore'), preprocess__num=StandardScaler();, score=0.655 total time=   5.3s\n",
            "[CV 3/3] END model=RandomForestRegressor(), model__max_depth=3, model__n_estimators=250, preprocess__cat=OneHotEncoder(handle_unknown='ignore'), preprocess__num=StandardScaler();, score=0.581 total time=   5.3s\n",
            "[CV 1/3] END model=RandomForestRegressor(), model__max_depth=8, model__n_estimators=100, preprocess__cat=OrdinalEncoder(handle_unknown='use_encoded_value', unknown_value=20), preprocess__num=StandardScaler();, score=nan total time=   0.0s\n",
            "[CV 2/3] END model=RandomForestRegressor(), model__max_depth=8, model__n_estimators=100, preprocess__cat=OrdinalEncoder(handle_unknown='use_encoded_value', unknown_value=20), preprocess__num=StandardScaler();, score=nan total time=   0.0s\n",
            "[CV 3/3] END model=RandomForestRegressor(), model__max_depth=8, model__n_estimators=100, preprocess__cat=OrdinalEncoder(handle_unknown='use_encoded_value', unknown_value=20), preprocess__num=StandardScaler();, score=nan total time=   0.0s\n",
            "[CV 1/3] END model=RandomForestRegressor(), model__max_depth=6, model__n_estimators=100, preprocess__cat=OneHotEncoder(handle_unknown='ignore'), preprocess__num=RobustScaler();, score=0.836 total time=   6.1s\n",
            "[CV 2/3] END model=RandomForestRegressor(), model__max_depth=6, model__n_estimators=100, preprocess__cat=OneHotEncoder(handle_unknown='ignore'), preprocess__num=RobustScaler();, score=0.863 total time=   6.5s\n",
            "[CV 3/3] END model=RandomForestRegressor(), model__max_depth=6, model__n_estimators=100, preprocess__cat=OneHotEncoder(handle_unknown='ignore'), preprocess__num=RobustScaler();, score=0.815 total time=   6.2s\n",
            "[CV 1/3] END model=RandomForestRegressor(), model__max_depth=5, model__n_estimators=100, preprocess__cat=OrdinalEncoder(handle_unknown='use_encoded_value', unknown_value=20), preprocess__num=MinMaxScaler();, score=nan total time=   0.0s\n",
            "[CV 2/3] END model=RandomForestRegressor(), model__max_depth=5, model__n_estimators=100, preprocess__cat=OrdinalEncoder(handle_unknown='use_encoded_value', unknown_value=20), preprocess__num=MinMaxScaler();, score=nan total time=   0.0s\n",
            "[CV 3/3] END model=RandomForestRegressor(), model__max_depth=5, model__n_estimators=100, preprocess__cat=OrdinalEncoder(handle_unknown='use_encoded_value', unknown_value=20), preprocess__num=MinMaxScaler();, score=nan total time=   0.0s\n",
            "[CV 1/3] END model=RandomForestRegressor(), model__max_depth=7, model__n_estimators=100, preprocess__cat=OrdinalEncoder(handle_unknown='use_encoded_value', unknown_value=20), preprocess__num=StandardScaler();, score=nan total time=   0.0s\n",
            "[CV 2/3] END model=RandomForestRegressor(), model__max_depth=7, model__n_estimators=100, preprocess__cat=OrdinalEncoder(handle_unknown='use_encoded_value', unknown_value=20), preprocess__num=StandardScaler();, score=nan total time=   0.0s\n",
            "[CV 3/3] END model=RandomForestRegressor(), model__max_depth=7, model__n_estimators=100, preprocess__cat=OrdinalEncoder(handle_unknown='use_encoded_value', unknown_value=20), preprocess__num=StandardScaler();, score=nan total time=   0.0s\n",
            "[CV 1/3] END model=RandomForestRegressor(), model__max_depth=3, model__n_estimators=150, preprocess__cat=OneHotEncoder(handle_unknown='ignore'), preprocess__num=RobustScaler();, score=0.639 total time=   3.7s\n",
            "[CV 2/3] END model=RandomForestRegressor(), model__max_depth=3, model__n_estimators=150, preprocess__cat=OneHotEncoder(handle_unknown='ignore'), preprocess__num=RobustScaler();, score=0.663 total time=   4.7s\n",
            "[CV 3/3] END model=RandomForestRegressor(), model__max_depth=3, model__n_estimators=150, preprocess__cat=OneHotEncoder(handle_unknown='ignore'), preprocess__num=RobustScaler();, score=0.581 total time=   3.1s\n",
            "[CV 1/3] END model=RandomForestRegressor(), model__max_depth=2, model__n_estimators=100, preprocess__cat=OrdinalEncoder(handle_unknown='use_encoded_value', unknown_value=20), preprocess__num=MinMaxScaler();, score=nan total time=   0.0s\n",
            "[CV 2/3] END model=RandomForestRegressor(), model__max_depth=2, model__n_estimators=100, preprocess__cat=OrdinalEncoder(handle_unknown='use_encoded_value', unknown_value=20), preprocess__num=MinMaxScaler();, score=nan total time=   0.0s\n",
            "[CV 3/3] END model=RandomForestRegressor(), model__max_depth=2, model__n_estimators=100, preprocess__cat=OrdinalEncoder(handle_unknown='use_encoded_value', unknown_value=20), preprocess__num=MinMaxScaler();, score=nan total time=   0.0s\n",
            "[CV 1/3] END model=RandomForestRegressor(), model__max_depth=2, model__n_estimators=100, preprocess__cat=OneHotEncoder(handle_unknown='ignore'), preprocess__num=RobustScaler();, score=0.523 total time=   1.6s\n",
            "[CV 2/3] END model=RandomForestRegressor(), model__max_depth=2, model__n_estimators=100, preprocess__cat=OneHotEncoder(handle_unknown='ignore'), preprocess__num=RobustScaler();, score=0.542 total time=   2.4s\n",
            "[CV 3/3] END model=RandomForestRegressor(), model__max_depth=2, model__n_estimators=100, preprocess__cat=OneHotEncoder(handle_unknown='ignore'), preprocess__num=RobustScaler();, score=0.454 total time=   2.0s\n",
            "[CV 1/3] END model=RandomForestRegressor(), model__max_depth=6, model__n_estimators=200, preprocess__cat=OneHotEncoder(handle_unknown='ignore'), preprocess__num=MinMaxScaler();, score=0.840 total time=  12.3s\n",
            "[CV 2/3] END model=RandomForestRegressor(), model__max_depth=6, model__n_estimators=200, preprocess__cat=OneHotEncoder(handle_unknown='ignore'), preprocess__num=MinMaxScaler();, score=0.856 total time=  12.2s\n",
            "[CV 3/3] END model=RandomForestRegressor(), model__max_depth=6, model__n_estimators=200, preprocess__cat=OneHotEncoder(handle_unknown='ignore'), preprocess__num=MinMaxScaler();, score=0.816 total time=  11.9s\n",
            "[CV 1/3] END model=RandomForestRegressor(), model__max_depth=8, model__n_estimators=250, preprocess__cat=OrdinalEncoder(handle_unknown='use_encoded_value', unknown_value=20), preprocess__num=StandardScaler();, score=nan total time=   0.0s\n",
            "[CV 2/3] END model=RandomForestRegressor(), model__max_depth=8, model__n_estimators=250, preprocess__cat=OrdinalEncoder(handle_unknown='use_encoded_value', unknown_value=20), preprocess__num=StandardScaler();, score=nan total time=   0.0s\n",
            "[CV 3/3] END model=RandomForestRegressor(), model__max_depth=8, model__n_estimators=250, preprocess__cat=OrdinalEncoder(handle_unknown='use_encoded_value', unknown_value=20), preprocess__num=StandardScaler();, score=nan total time=   0.0s\n",
            "[CV 1/3] END model=RandomForestRegressor(), model__max_depth=5, model__n_estimators=250, preprocess__cat=OrdinalEncoder(handle_unknown='use_encoded_value', unknown_value=20), preprocess__num=MinMaxScaler();, score=nan total time=   0.0s\n",
            "[CV 2/3] END model=RandomForestRegressor(), model__max_depth=5, model__n_estimators=250, preprocess__cat=OrdinalEncoder(handle_unknown='use_encoded_value', unknown_value=20), preprocess__num=MinMaxScaler();, score=nan total time=   0.0s\n",
            "[CV 3/3] END model=RandomForestRegressor(), model__max_depth=5, model__n_estimators=250, preprocess__cat=OrdinalEncoder(handle_unknown='use_encoded_value', unknown_value=20), preprocess__num=MinMaxScaler();, score=nan total time=   0.0s\n",
            "[CV 1/3] END model=RandomForestRegressor(), model__max_depth=8, model__n_estimators=150, preprocess__cat=OrdinalEncoder(handle_unknown='use_encoded_value', unknown_value=20), preprocess__num=StandardScaler();, score=nan total time=   0.0s\n",
            "[CV 2/3] END model=RandomForestRegressor(), model__max_depth=8, model__n_estimators=150, preprocess__cat=OrdinalEncoder(handle_unknown='use_encoded_value', unknown_value=20), preprocess__num=StandardScaler();, score=nan total time=   0.0s\n",
            "[CV 3/3] END model=RandomForestRegressor(), model__max_depth=8, model__n_estimators=150, preprocess__cat=OrdinalEncoder(handle_unknown='use_encoded_value', unknown_value=20), preprocess__num=StandardScaler();, score=nan total time=   0.0s\n",
            "[CV 1/3] END model=RandomForestRegressor(), model__max_depth=8, model__n_estimators=250, preprocess__cat=OneHotEncoder(handle_unknown='ignore'), preprocess__num=RobustScaler();, score=0.877 total time=  32.5s\n",
            "[CV 2/3] END model=RandomForestRegressor(), model__max_depth=8, model__n_estimators=250, preprocess__cat=OneHotEncoder(handle_unknown='ignore'), preprocess__num=RobustScaler();, score=0.888 total time=  29.0s\n",
            "[CV 3/3] END model=RandomForestRegressor(), model__max_depth=8, model__n_estimators=250, preprocess__cat=OneHotEncoder(handle_unknown='ignore'), preprocess__num=RobustScaler();, score=0.853 total time=  28.4s\n",
            "[CV 1/3] END model=RandomForestRegressor(), model__max_depth=5, model__n_estimators=100, preprocess__cat=OrdinalEncoder(handle_unknown='use_encoded_value', unknown_value=20), preprocess__num=RobustScaler();, score=nan total time=   0.0s\n",
            "[CV 2/3] END model=RandomForestRegressor(), model__max_depth=5, model__n_estimators=100, preprocess__cat=OrdinalEncoder(handle_unknown='use_encoded_value', unknown_value=20), preprocess__num=RobustScaler();, score=nan total time=   0.0s\n",
            "[CV 3/3] END model=RandomForestRegressor(), model__max_depth=5, model__n_estimators=100, preprocess__cat=OrdinalEncoder(handle_unknown='use_encoded_value', unknown_value=20), preprocess__num=RobustScaler();, score=nan total time=   0.0s\n",
            "[CV 1/3] END model=RandomForestRegressor(), model__max_depth=8, model__n_estimators=200, preprocess__cat=OneHotEncoder(handle_unknown='ignore'), preprocess__num=StandardScaler();, score=0.872 total time=  25.2s\n",
            "[CV 2/3] END model=RandomForestRegressor(), model__max_depth=8, model__n_estimators=200, preprocess__cat=OneHotEncoder(handle_unknown='ignore'), preprocess__num=StandardScaler();, score=0.888 total time=  24.8s\n",
            "[CV 3/3] END model=RandomForestRegressor(), model__max_depth=8, model__n_estimators=200, preprocess__cat=OneHotEncoder(handle_unknown='ignore'), preprocess__num=StandardScaler();, score=0.853 total time=  24.0s\n",
            "[CV 1/3] END model=RandomForestRegressor(), model__max_depth=7, model__n_estimators=150, preprocess__cat=OneHotEncoder(handle_unknown='ignore'), preprocess__num=StandardScaler();, score=0.864 total time=  13.2s\n",
            "[CV 2/3] END model=RandomForestRegressor(), model__max_depth=7, model__n_estimators=150, preprocess__cat=OneHotEncoder(handle_unknown='ignore'), preprocess__num=StandardScaler();, score=0.878 total time=  13.2s\n",
            "[CV 3/3] END model=RandomForestRegressor(), model__max_depth=7, model__n_estimators=150, preprocess__cat=OneHotEncoder(handle_unknown='ignore'), preprocess__num=StandardScaler();, score=0.846 total time=  13.2s\n",
            "[CV 1/3] END model=RandomForestRegressor(), model__max_depth=5, model__n_estimators=200, preprocess__cat=OneHotEncoder(handle_unknown='ignore'), preprocess__num=RobustScaler();, score=0.789 total time=   8.4s\n",
            "[CV 2/3] END model=RandomForestRegressor(), model__max_depth=5, model__n_estimators=200, preprocess__cat=OneHotEncoder(handle_unknown='ignore'), preprocess__num=RobustScaler();, score=0.818 total time=   8.9s\n",
            "[CV 3/3] END model=RandomForestRegressor(), model__max_depth=5, model__n_estimators=200, preprocess__cat=OneHotEncoder(handle_unknown='ignore'), preprocess__num=RobustScaler();, score=0.741 total time=   8.3s\n",
            "[CV 1/3] END model=RandomForestRegressor(), model__max_depth=2, model__n_estimators=250, preprocess__cat=OneHotEncoder(handle_unknown='ignore'), preprocess__num=RobustScaler();, score=0.523 total time=   3.3s\n",
            "[CV 2/3] END model=RandomForestRegressor(), model__max_depth=2, model__n_estimators=250, preprocess__cat=OneHotEncoder(handle_unknown='ignore'), preprocess__num=RobustScaler();, score=0.533 total time=   3.4s\n",
            "[CV 3/3] END model=RandomForestRegressor(), model__max_depth=2, model__n_estimators=250, preprocess__cat=OneHotEncoder(handle_unknown='ignore'), preprocess__num=RobustScaler();, score=0.454 total time=   3.4s\n",
            "[CV 1/3] END model=RandomForestRegressor(), model__max_depth=6, model__n_estimators=150, preprocess__cat=OneHotEncoder(handle_unknown='ignore'), preprocess__num=MinMaxScaler();, score=0.841 total time=   9.1s\n",
            "[CV 2/3] END model=RandomForestRegressor(), model__max_depth=6, model__n_estimators=150, preprocess__cat=OneHotEncoder(handle_unknown='ignore'), preprocess__num=MinMaxScaler();, score=0.861 total time=   9.0s\n",
            "[CV 3/3] END model=RandomForestRegressor(), model__max_depth=6, model__n_estimators=150, preprocess__cat=OneHotEncoder(handle_unknown='ignore'), preprocess__num=MinMaxScaler();, score=0.815 total time=   8.9s\n",
            "[CV 1/3] END model=RandomForestRegressor(), model__max_depth=8, model__n_estimators=150, preprocess__cat=OneHotEncoder(handle_unknown='ignore'), preprocess__num=MinMaxScaler();, score=0.871 total time=  17.7s\n",
            "[CV 2/3] END model=RandomForestRegressor(), model__max_depth=8, model__n_estimators=150, preprocess__cat=OneHotEncoder(handle_unknown='ignore'), preprocess__num=MinMaxScaler();, score=0.889 total time=  18.3s\n",
            "[CV 3/3] END model=RandomForestRegressor(), model__max_depth=8, model__n_estimators=150, preprocess__cat=OneHotEncoder(handle_unknown='ignore'), preprocess__num=MinMaxScaler();, score=0.850 total time=  17.7s\n",
            "[CV 1/3] END model=RandomForestRegressor(), model__max_depth=6, model__n_estimators=200, preprocess__cat=OneHotEncoder(handle_unknown='ignore'), preprocess__num=StandardScaler();, score=0.838 total time=  12.2s\n",
            "[CV 2/3] END model=RandomForestRegressor(), model__max_depth=6, model__n_estimators=200, preprocess__cat=OneHotEncoder(handle_unknown='ignore'), preprocess__num=StandardScaler();, score=0.859 total time=  12.4s\n",
            "[CV 3/3] END model=RandomForestRegressor(), model__max_depth=6, model__n_estimators=200, preprocess__cat=OneHotEncoder(handle_unknown='ignore'), preprocess__num=StandardScaler();, score=0.815 total time=  12.0s\n",
            "[CV 1/3] END model=RandomForestRegressor(), model__max_depth=5, model__n_estimators=250, preprocess__cat=OneHotEncoder(handle_unknown='ignore'), preprocess__num=StandardScaler();, score=0.791 total time=  10.9s\n",
            "[CV 2/3] END model=RandomForestRegressor(), model__max_depth=5, model__n_estimators=250, preprocess__cat=OneHotEncoder(handle_unknown='ignore'), preprocess__num=StandardScaler();, score=0.820 total time=  11.2s\n",
            "[CV 3/3] END model=RandomForestRegressor(), model__max_depth=5, model__n_estimators=250, preprocess__cat=OneHotEncoder(handle_unknown='ignore'), preprocess__num=StandardScaler();, score=0.739 total time=  10.5s\n",
            "[CV 1/3] END model=RandomForestRegressor(), model__max_depth=8, model__n_estimators=250, preprocess__cat=OneHotEncoder(handle_unknown='ignore'), preprocess__num=MinMaxScaler();, score=0.873 total time=  30.4s\n",
            "[CV 2/3] END model=RandomForestRegressor(), model__max_depth=8, model__n_estimators=250, preprocess__cat=OneHotEncoder(handle_unknown='ignore'), preprocess__num=MinMaxScaler();, score=0.889 total time=  34.9s\n",
            "[CV 3/3] END model=RandomForestRegressor(), model__max_depth=8, model__n_estimators=250, preprocess__cat=OneHotEncoder(handle_unknown='ignore'), preprocess__num=MinMaxScaler();, score=0.852 total time=  31.4s\n",
            "[CV 1/3] END model=RandomForestRegressor(), model__max_depth=2, model__n_estimators=200, preprocess__cat=OneHotEncoder(handle_unknown='ignore'), preprocess__num=StandardScaler();, score=0.523 total time=   2.9s\n",
            "[CV 2/3] END model=RandomForestRegressor(), model__max_depth=2, model__n_estimators=200, preprocess__cat=OneHotEncoder(handle_unknown='ignore'), preprocess__num=StandardScaler();, score=0.545 total time=   2.8s\n",
            "[CV 3/3] END model=RandomForestRegressor(), model__max_depth=2, model__n_estimators=200, preprocess__cat=OneHotEncoder(handle_unknown='ignore'), preprocess__num=StandardScaler();, score=0.455 total time=   2.9s\n",
            "[CV 1/3] END model=RandomForestRegressor(), model__max_depth=4, model__n_estimators=150, preprocess__cat=OneHotEncoder(handle_unknown='ignore'), preprocess__num=StandardScaler();, score=0.727 total time=   4.6s\n",
            "[CV 2/3] END model=RandomForestRegressor(), model__max_depth=4, model__n_estimators=150, preprocess__cat=OneHotEncoder(handle_unknown='ignore'), preprocess__num=StandardScaler();, score=0.758 total time=   4.9s\n",
            "[CV 3/3] END model=RandomForestRegressor(), model__max_depth=4, model__n_estimators=150, preprocess__cat=OneHotEncoder(handle_unknown='ignore'), preprocess__num=StandardScaler();, score=0.672 total time=   4.5s\n",
            "[CV 1/3] END model=RandomForestRegressor(), model__max_depth=3, model__n_estimators=200, preprocess__cat=OrdinalEncoder(handle_unknown='use_encoded_value', unknown_value=20), preprocess__num=MinMaxScaler();, score=nan total time=   0.0s\n",
            "[CV 2/3] END model=RandomForestRegressor(), model__max_depth=3, model__n_estimators=200, preprocess__cat=OrdinalEncoder(handle_unknown='use_encoded_value', unknown_value=20), preprocess__num=MinMaxScaler();, score=nan total time=   0.0s\n",
            "[CV 3/3] END model=RandomForestRegressor(), model__max_depth=3, model__n_estimators=200, preprocess__cat=OrdinalEncoder(handle_unknown='use_encoded_value', unknown_value=20), preprocess__num=MinMaxScaler();, score=nan total time=   0.0s\n",
            "[CV 1/3] END model=RandomForestRegressor(), model__max_depth=6, model__n_estimators=100, preprocess__cat=OneHotEncoder(handle_unknown='ignore'), preprocess__num=StandardScaler();, score=0.841 total time=   6.3s\n",
            "[CV 2/3] END model=RandomForestRegressor(), model__max_depth=6, model__n_estimators=100, preprocess__cat=OneHotEncoder(handle_unknown='ignore'), preprocess__num=StandardScaler();, score=0.861 total time=   6.1s\n",
            "[CV 3/3] END model=RandomForestRegressor(), model__max_depth=6, model__n_estimators=100, preprocess__cat=OneHotEncoder(handle_unknown='ignore'), preprocess__num=StandardScaler();, score=0.816 total time=   6.2s\n",
            "[CV 1/3] END model=RandomForestRegressor(), model__max_depth=8, model__n_estimators=150, preprocess__cat=OrdinalEncoder(handle_unknown='use_encoded_value', unknown_value=20), preprocess__num=MinMaxScaler();, score=nan total time=   0.0s\n",
            "[CV 2/3] END model=RandomForestRegressor(), model__max_depth=8, model__n_estimators=150, preprocess__cat=OrdinalEncoder(handle_unknown='use_encoded_value', unknown_value=20), preprocess__num=MinMaxScaler();, score=nan total time=   0.0s\n",
            "[CV 3/3] END model=RandomForestRegressor(), model__max_depth=8, model__n_estimators=150, preprocess__cat=OrdinalEncoder(handle_unknown='use_encoded_value', unknown_value=20), preprocess__num=MinMaxScaler();, score=nan total time=   0.0s\n",
            "[CV 1/3] END model=RandomForestRegressor(), model__max_depth=6, model__n_estimators=300, preprocess__cat=OneHotEncoder(handle_unknown='ignore'), preprocess__num=StandardScaler();, score=0.838 total time=  18.6s\n",
            "[CV 2/3] END model=RandomForestRegressor(), model__max_depth=6, model__n_estimators=300, preprocess__cat=OneHotEncoder(handle_unknown='ignore'), preprocess__num=StandardScaler();, score=0.858 total time=  18.6s\n",
            "[CV 3/3] END model=RandomForestRegressor(), model__max_depth=6, model__n_estimators=300, preprocess__cat=OneHotEncoder(handle_unknown='ignore'), preprocess__num=StandardScaler();, score=0.815 total time=  18.1s\n",
            "[CV 1/3] END model=RandomForestRegressor(), model__max_depth=4, model__n_estimators=300, preprocess__cat=OrdinalEncoder(handle_unknown='use_encoded_value', unknown_value=20), preprocess__num=MinMaxScaler();, score=nan total time=   0.0s\n",
            "[CV 2/3] END model=RandomForestRegressor(), model__max_depth=4, model__n_estimators=300, preprocess__cat=OrdinalEncoder(handle_unknown='use_encoded_value', unknown_value=20), preprocess__num=MinMaxScaler();, score=nan total time=   0.0s\n",
            "[CV 3/3] END model=RandomForestRegressor(), model__max_depth=4, model__n_estimators=300, preprocess__cat=OrdinalEncoder(handle_unknown='use_encoded_value', unknown_value=20), preprocess__num=MinMaxScaler();, score=nan total time=   0.0s\n",
            "[CV 1/3] END model=RandomForestRegressor(), model__max_depth=4, model__n_estimators=200, preprocess__cat=OneHotEncoder(handle_unknown='ignore'), preprocess__num=MinMaxScaler();, score=0.734 total time=   5.7s\n",
            "[CV 2/3] END model=RandomForestRegressor(), model__max_depth=4, model__n_estimators=200, preprocess__cat=OneHotEncoder(handle_unknown='ignore'), preprocess__num=MinMaxScaler();, score=0.750 total time=   5.9s\n",
            "[CV 3/3] END model=RandomForestRegressor(), model__max_depth=4, model__n_estimators=200, preprocess__cat=OneHotEncoder(handle_unknown='ignore'), preprocess__num=MinMaxScaler();, score=0.675 total time=   5.8s\n",
            "[CV 1/3] END model=RandomForestRegressor(), model__max_depth=7, model__n_estimators=250, preprocess__cat=OneHotEncoder(handle_unknown='ignore'), preprocess__num=MinMaxScaler();, score=0.866 total time=  22.1s\n",
            "[CV 2/3] END model=RandomForestRegressor(), model__max_depth=7, model__n_estimators=250, preprocess__cat=OneHotEncoder(handle_unknown='ignore'), preprocess__num=MinMaxScaler();, score=0.877 total time=  22.6s\n",
            "[CV 3/3] END model=RandomForestRegressor(), model__max_depth=7, model__n_estimators=250, preprocess__cat=OneHotEncoder(handle_unknown='ignore'), preprocess__num=MinMaxScaler();, score=0.843 total time=  21.2s\n"
          ]
        },
        {
          "data": {
            "text/html": [
              "<style>#sk-container-id-10 {color: black;background-color: white;}#sk-container-id-10 pre{padding: 0;}#sk-container-id-10 div.sk-toggleable {background-color: white;}#sk-container-id-10 label.sk-toggleable__label {cursor: pointer;display: block;width: 100%;margin-bottom: 0;padding: 0.3em;box-sizing: border-box;text-align: center;}#sk-container-id-10 label.sk-toggleable__label-arrow:before {content: \"▸\";float: left;margin-right: 0.25em;color: #696969;}#sk-container-id-10 label.sk-toggleable__label-arrow:hover:before {color: black;}#sk-container-id-10 div.sk-estimator:hover label.sk-toggleable__label-arrow:before {color: black;}#sk-container-id-10 div.sk-toggleable__content {max-height: 0;max-width: 0;overflow: hidden;text-align: left;background-color: #f0f8ff;}#sk-container-id-10 div.sk-toggleable__content pre {margin: 0.2em;color: black;border-radius: 0.25em;background-color: #f0f8ff;}#sk-container-id-10 input.sk-toggleable__control:checked~div.sk-toggleable__content {max-height: 200px;max-width: 100%;overflow: auto;}#sk-container-id-10 input.sk-toggleable__control:checked~label.sk-toggleable__label-arrow:before {content: \"▾\";}#sk-container-id-10 div.sk-estimator input.sk-toggleable__control:checked~label.sk-toggleable__label {background-color: #d4ebff;}#sk-container-id-10 div.sk-label input.sk-toggleable__control:checked~label.sk-toggleable__label {background-color: #d4ebff;}#sk-container-id-10 input.sk-hidden--visually {border: 0;clip: rect(1px 1px 1px 1px);clip: rect(1px, 1px, 1px, 1px);height: 1px;margin: -1px;overflow: hidden;padding: 0;position: absolute;width: 1px;}#sk-container-id-10 div.sk-estimator {font-family: monospace;background-color: #f0f8ff;border: 1px dotted black;border-radius: 0.25em;box-sizing: border-box;margin-bottom: 0.5em;}#sk-container-id-10 div.sk-estimator:hover {background-color: #d4ebff;}#sk-container-id-10 div.sk-parallel-item::after {content: \"\";width: 100%;border-bottom: 1px solid gray;flex-grow: 1;}#sk-container-id-10 div.sk-label:hover label.sk-toggleable__label {background-color: #d4ebff;}#sk-container-id-10 div.sk-serial::before {content: \"\";position: absolute;border-left: 1px solid gray;box-sizing: border-box;top: 0;bottom: 0;left: 50%;z-index: 0;}#sk-container-id-10 div.sk-serial {display: flex;flex-direction: column;align-items: center;background-color: white;padding-right: 0.2em;padding-left: 0.2em;position: relative;}#sk-container-id-10 div.sk-item {position: relative;z-index: 1;}#sk-container-id-10 div.sk-parallel {display: flex;align-items: stretch;justify-content: center;background-color: white;position: relative;}#sk-container-id-10 div.sk-item::before, #sk-container-id-10 div.sk-parallel-item::before {content: \"\";position: absolute;border-left: 1px solid gray;box-sizing: border-box;top: 0;bottom: 0;left: 50%;z-index: -1;}#sk-container-id-10 div.sk-parallel-item {display: flex;flex-direction: column;z-index: 1;position: relative;background-color: white;}#sk-container-id-10 div.sk-parallel-item:first-child::after {align-self: flex-end;width: 50%;}#sk-container-id-10 div.sk-parallel-item:last-child::after {align-self: flex-start;width: 50%;}#sk-container-id-10 div.sk-parallel-item:only-child::after {width: 0;}#sk-container-id-10 div.sk-dashed-wrapped {border: 1px dashed gray;margin: 0 0.4em 0.5em 0.4em;box-sizing: border-box;padding-bottom: 0.4em;background-color: white;}#sk-container-id-10 div.sk-label label {font-family: monospace;font-weight: bold;display: inline-block;line-height: 1.2em;}#sk-container-id-10 div.sk-label-container {text-align: center;}#sk-container-id-10 div.sk-container {/* jupyter's `normalize.less` sets `[hidden] { display: none; }` but bootstrap.min.css set `[hidden] { display: none !important; }` so we also need the `!important` here to be able to override the default hidden behavior on the sphinx rendered scikit-learn.org. See: https://github.com/scikit-learn/scikit-learn/issues/21755 */display: inline-block !important;position: relative;}#sk-container-id-10 div.sk-text-repr-fallback {display: none;}</style><div id=\"sk-container-id-10\" class=\"sk-top-container\"><div class=\"sk-text-repr-fallback\"><pre>RandomizedSearchCV(cv=3,\n",
              "                   estimator=Pipeline(steps=[(&#x27;preprocess&#x27;,\n",
              "                                              ColumnTransformer(transformers=[(&#x27;num&#x27;,\n",
              "                                                                               MinMaxScaler(),\n",
              "                                                                               [&#x27;Model &#x27;\n",
              "                                                                                &#x27;Year&#x27;,\n",
              "                                                                                &#x27;Mileage&#x27;,\n",
              "                                                                                &#x27;Engine &#x27;\n",
              "                                                                                &#x27;Capacity&#x27;]),\n",
              "                                                                              (&#x27;cat&#x27;,\n",
              "                                                                               OrdinalEncoder(handle_unknown=&#x27;use_encoded_value&#x27;,\n",
              "                                                                                              unknown_value=20),\n",
              "                                                                               [&#x27;Company &#x27;\n",
              "                                                                                &#x27;Name&#x27;,\n",
              "                                                                                &#x27;Engine &#x27;\n",
              "                                                                                &#x27;Type&#x27;,\n",
              "                                                                                &#x27;Assembly&#x27;,\n",
              "                                                                                &#x27;Body &#x27;\n",
              "                                                                                &#x27;Type&#x27;,\n",
              "                                                                                &#x27;Transmission &#x27;\n",
              "                                                                                &#x27;Type&#x27;,\n",
              "                                                                                &#x27;Registration &#x27;\n",
              "                                                                                &#x27;Status&#x27;])])),\n",
              "                                             (&#x27;mode...\n",
              "                   param_distributions=[{&#x27;model&#x27;: [RandomForestRegressor(max_depth=8,\n",
              "                                                                         n_estimators=250)],\n",
              "                                         &#x27;model__max_depth&#x27;: [2, 3, 4, 5, 6, 7,\n",
              "                                                              8],\n",
              "                                         &#x27;model__n_estimators&#x27;: [100, 150, 200,\n",
              "                                                                 250, 300],\n",
              "                                         &#x27;preprocess__cat&#x27;: [OrdinalEncoder(handle_unknown=&#x27;use_encoded_value&#x27;,\n",
              "                                                                            unknown_value=20),\n",
              "                                                             OneHotEncoder(handle_unknown=&#x27;ignore&#x27;)],\n",
              "                                         &#x27;preprocess__num&#x27;: [MinMaxScaler(),\n",
              "                                                             StandardScaler(),\n",
              "                                                             RobustScaler()]}],\n",
              "                   verbose=3)</pre><b>In a Jupyter environment, please rerun this cell to show the HTML representation or trust the notebook. <br />On GitHub, the HTML representation is unable to render, please try loading this page with nbviewer.org.</b></div><div class=\"sk-container\" hidden><div class=\"sk-item sk-dashed-wrapped\"><div class=\"sk-label-container\"><div class=\"sk-label sk-toggleable\"><input class=\"sk-toggleable__control sk-hidden--visually\" id=\"sk-estimator-id-48\" type=\"checkbox\" ><label for=\"sk-estimator-id-48\" class=\"sk-toggleable__label sk-toggleable__label-arrow\">RandomizedSearchCV</label><div class=\"sk-toggleable__content\"><pre>RandomizedSearchCV(cv=3,\n",
              "                   estimator=Pipeline(steps=[(&#x27;preprocess&#x27;,\n",
              "                                              ColumnTransformer(transformers=[(&#x27;num&#x27;,\n",
              "                                                                               MinMaxScaler(),\n",
              "                                                                               [&#x27;Model &#x27;\n",
              "                                                                                &#x27;Year&#x27;,\n",
              "                                                                                &#x27;Mileage&#x27;,\n",
              "                                                                                &#x27;Engine &#x27;\n",
              "                                                                                &#x27;Capacity&#x27;]),\n",
              "                                                                              (&#x27;cat&#x27;,\n",
              "                                                                               OrdinalEncoder(handle_unknown=&#x27;use_encoded_value&#x27;,\n",
              "                                                                                              unknown_value=20),\n",
              "                                                                               [&#x27;Company &#x27;\n",
              "                                                                                &#x27;Name&#x27;,\n",
              "                                                                                &#x27;Engine &#x27;\n",
              "                                                                                &#x27;Type&#x27;,\n",
              "                                                                                &#x27;Assembly&#x27;,\n",
              "                                                                                &#x27;Body &#x27;\n",
              "                                                                                &#x27;Type&#x27;,\n",
              "                                                                                &#x27;Transmission &#x27;\n",
              "                                                                                &#x27;Type&#x27;,\n",
              "                                                                                &#x27;Registration &#x27;\n",
              "                                                                                &#x27;Status&#x27;])])),\n",
              "                                             (&#x27;mode...\n",
              "                   param_distributions=[{&#x27;model&#x27;: [RandomForestRegressor(max_depth=8,\n",
              "                                                                         n_estimators=250)],\n",
              "                                         &#x27;model__max_depth&#x27;: [2, 3, 4, 5, 6, 7,\n",
              "                                                              8],\n",
              "                                         &#x27;model__n_estimators&#x27;: [100, 150, 200,\n",
              "                                                                 250, 300],\n",
              "                                         &#x27;preprocess__cat&#x27;: [OrdinalEncoder(handle_unknown=&#x27;use_encoded_value&#x27;,\n",
              "                                                                            unknown_value=20),\n",
              "                                                             OneHotEncoder(handle_unknown=&#x27;ignore&#x27;)],\n",
              "                                         &#x27;preprocess__num&#x27;: [MinMaxScaler(),\n",
              "                                                             StandardScaler(),\n",
              "                                                             RobustScaler()]}],\n",
              "                   verbose=3)</pre></div></div></div><div class=\"sk-parallel\"><div class=\"sk-parallel-item\"><div class=\"sk-item\"><div class=\"sk-label-container\"><div class=\"sk-label sk-toggleable\"><input class=\"sk-toggleable__control sk-hidden--visually\" id=\"sk-estimator-id-49\" type=\"checkbox\" ><label for=\"sk-estimator-id-49\" class=\"sk-toggleable__label sk-toggleable__label-arrow\">estimator: Pipeline</label><div class=\"sk-toggleable__content\"><pre>Pipeline(steps=[(&#x27;preprocess&#x27;,\n",
              "                 ColumnTransformer(transformers=[(&#x27;num&#x27;, MinMaxScaler(),\n",
              "                                                  [&#x27;Model Year&#x27;, &#x27;Mileage&#x27;,\n",
              "                                                   &#x27;Engine Capacity&#x27;]),\n",
              "                                                 (&#x27;cat&#x27;,\n",
              "                                                  OrdinalEncoder(handle_unknown=&#x27;use_encoded_value&#x27;,\n",
              "                                                                 unknown_value=20),\n",
              "                                                  [&#x27;Company Name&#x27;,\n",
              "                                                   &#x27;Engine Type&#x27;, &#x27;Assembly&#x27;,\n",
              "                                                   &#x27;Body Type&#x27;,\n",
              "                                                   &#x27;Transmission Type&#x27;,\n",
              "                                                   &#x27;Registration Status&#x27;])])),\n",
              "                (&#x27;model&#x27;, RandomForestRegressor())])</pre></div></div></div><div class=\"sk-serial\"><div class=\"sk-item\"><div class=\"sk-serial\"><div class=\"sk-item sk-dashed-wrapped\"><div class=\"sk-label-container\"><div class=\"sk-label sk-toggleable\"><input class=\"sk-toggleable__control sk-hidden--visually\" id=\"sk-estimator-id-50\" type=\"checkbox\" ><label for=\"sk-estimator-id-50\" class=\"sk-toggleable__label sk-toggleable__label-arrow\">preprocess: ColumnTransformer</label><div class=\"sk-toggleable__content\"><pre>ColumnTransformer(transformers=[(&#x27;num&#x27;, MinMaxScaler(),\n",
              "                                 [&#x27;Model Year&#x27;, &#x27;Mileage&#x27;, &#x27;Engine Capacity&#x27;]),\n",
              "                                (&#x27;cat&#x27;,\n",
              "                                 OrdinalEncoder(handle_unknown=&#x27;use_encoded_value&#x27;,\n",
              "                                                unknown_value=20),\n",
              "                                 [&#x27;Company Name&#x27;, &#x27;Engine Type&#x27;, &#x27;Assembly&#x27;,\n",
              "                                  &#x27;Body Type&#x27;, &#x27;Transmission Type&#x27;,\n",
              "                                  &#x27;Registration Status&#x27;])])</pre></div></div></div><div class=\"sk-parallel\"><div class=\"sk-parallel-item\"><div class=\"sk-item\"><div class=\"sk-label-container\"><div class=\"sk-label sk-toggleable\"><input class=\"sk-toggleable__control sk-hidden--visually\" id=\"sk-estimator-id-51\" type=\"checkbox\" ><label for=\"sk-estimator-id-51\" class=\"sk-toggleable__label sk-toggleable__label-arrow\">num</label><div class=\"sk-toggleable__content\"><pre>[&#x27;Model Year&#x27;, &#x27;Mileage&#x27;, &#x27;Engine Capacity&#x27;]</pre></div></div></div><div class=\"sk-serial\"><div class=\"sk-item\"><div class=\"sk-estimator sk-toggleable\"><input class=\"sk-toggleable__control sk-hidden--visually\" id=\"sk-estimator-id-52\" type=\"checkbox\" ><label for=\"sk-estimator-id-52\" class=\"sk-toggleable__label sk-toggleable__label-arrow\">MinMaxScaler</label><div class=\"sk-toggleable__content\"><pre>MinMaxScaler()</pre></div></div></div></div></div></div><div class=\"sk-parallel-item\"><div class=\"sk-item\"><div class=\"sk-label-container\"><div class=\"sk-label sk-toggleable\"><input class=\"sk-toggleable__control sk-hidden--visually\" id=\"sk-estimator-id-53\" type=\"checkbox\" ><label for=\"sk-estimator-id-53\" class=\"sk-toggleable__label sk-toggleable__label-arrow\">cat</label><div class=\"sk-toggleable__content\"><pre>[&#x27;Company Name&#x27;, &#x27;Engine Type&#x27;, &#x27;Assembly&#x27;, &#x27;Body Type&#x27;, &#x27;Transmission Type&#x27;, &#x27;Registration Status&#x27;]</pre></div></div></div><div class=\"sk-serial\"><div class=\"sk-item\"><div class=\"sk-estimator sk-toggleable\"><input class=\"sk-toggleable__control sk-hidden--visually\" id=\"sk-estimator-id-54\" type=\"checkbox\" ><label for=\"sk-estimator-id-54\" class=\"sk-toggleable__label sk-toggleable__label-arrow\">OrdinalEncoder</label><div class=\"sk-toggleable__content\"><pre>OrdinalEncoder(handle_unknown=&#x27;use_encoded_value&#x27;, unknown_value=20)</pre></div></div></div></div></div></div></div></div><div class=\"sk-item\"><div class=\"sk-estimator sk-toggleable\"><input class=\"sk-toggleable__control sk-hidden--visually\" id=\"sk-estimator-id-55\" type=\"checkbox\" ><label for=\"sk-estimator-id-55\" class=\"sk-toggleable__label sk-toggleable__label-arrow\">RandomForestRegressor</label><div class=\"sk-toggleable__content\"><pre>RandomForestRegressor()</pre></div></div></div></div></div></div></div></div></div></div></div></div>"
            ],
            "text/plain": [
              "RandomizedSearchCV(cv=3,\n",
              "                   estimator=Pipeline(steps=[('preprocess',\n",
              "                                              ColumnTransformer(transformers=[('num',\n",
              "                                                                               MinMaxScaler(),\n",
              "                                                                               ['Model '\n",
              "                                                                                'Year',\n",
              "                                                                                'Mileage',\n",
              "                                                                                'Engine '\n",
              "                                                                                'Capacity']),\n",
              "                                                                              ('cat',\n",
              "                                                                               OrdinalEncoder(handle_unknown='use_encoded_value',\n",
              "                                                                                              unknown_value=20),\n",
              "                                                                               ['Company '\n",
              "                                                                                'Name',\n",
              "                                                                                'Engine '\n",
              "                                                                                'Type',\n",
              "                                                                                'Assembly',\n",
              "                                                                                'Body '\n",
              "                                                                                'Type',\n",
              "                                                                                'Transmission '\n",
              "                                                                                'Type',\n",
              "                                                                                'Registration '\n",
              "                                                                                'Status'])])),\n",
              "                                             ('mode...\n",
              "                   param_distributions=[{'model': [RandomForestRegressor(max_depth=8,\n",
              "                                                                         n_estimators=250)],\n",
              "                                         'model__max_depth': [2, 3, 4, 5, 6, 7,\n",
              "                                                              8],\n",
              "                                         'model__n_estimators': [100, 150, 200,\n",
              "                                                                 250, 300],\n",
              "                                         'preprocess__cat': [OrdinalEncoder(handle_unknown='use_encoded_value',\n",
              "                                                                            unknown_value=20),\n",
              "                                                             OneHotEncoder(handle_unknown='ignore')],\n",
              "                                         'preprocess__num': [MinMaxScaler(),\n",
              "                                                             StandardScaler(),\n",
              "                                                             RobustScaler()]}],\n",
              "                   verbose=3)"
            ]
          },
          "execution_count": 225,
          "metadata": {},
          "output_type": "execute_result"
        }
      ],
      "source": [
        "params = [{'preprocess__num':[MinMaxScaler(),StandardScaler(),RobustScaler()],\n",
        "          'preprocess__cat':[OrdinalEncoder(handle_unknown='use_encoded_value',unknown_value=20),\n",
        "                             OneHotEncoder(handle_unknown='ignore')],\n",
        "          'model':[RandomForestRegressor()],\n",
        "          'model__n_estimators':[100,150,200,250,300],\n",
        "          'model__max_depth':[2,3,4,5,6,7,8]},\n",
        "]\n",
        "\n",
        "grid = RandomizedSearchCV(pipe, params, cv=3, n_iter=50, verbose=3)\n",
        "\n",
        "grid.fit(X_train,y_train)"
      ]
    },
    {
      "cell_type": "code",
      "execution_count": 226,
      "metadata": {
        "colab": {
          "base_uri": "https://localhost:8080/",
          "height": 188
        },
        "id": "BksghjdvzmN4",
        "outputId": "a416520a-8b0b-4273-d607-dac76f64c6a8"
      },
      "outputs": [
        {
          "data": {
            "text/html": [
              "<style>#sk-container-id-11 {color: black;background-color: white;}#sk-container-id-11 pre{padding: 0;}#sk-container-id-11 div.sk-toggleable {background-color: white;}#sk-container-id-11 label.sk-toggleable__label {cursor: pointer;display: block;width: 100%;margin-bottom: 0;padding: 0.3em;box-sizing: border-box;text-align: center;}#sk-container-id-11 label.sk-toggleable__label-arrow:before {content: \"▸\";float: left;margin-right: 0.25em;color: #696969;}#sk-container-id-11 label.sk-toggleable__label-arrow:hover:before {color: black;}#sk-container-id-11 div.sk-estimator:hover label.sk-toggleable__label-arrow:before {color: black;}#sk-container-id-11 div.sk-toggleable__content {max-height: 0;max-width: 0;overflow: hidden;text-align: left;background-color: #f0f8ff;}#sk-container-id-11 div.sk-toggleable__content pre {margin: 0.2em;color: black;border-radius: 0.25em;background-color: #f0f8ff;}#sk-container-id-11 input.sk-toggleable__control:checked~div.sk-toggleable__content {max-height: 200px;max-width: 100%;overflow: auto;}#sk-container-id-11 input.sk-toggleable__control:checked~label.sk-toggleable__label-arrow:before {content: \"▾\";}#sk-container-id-11 div.sk-estimator input.sk-toggleable__control:checked~label.sk-toggleable__label {background-color: #d4ebff;}#sk-container-id-11 div.sk-label input.sk-toggleable__control:checked~label.sk-toggleable__label {background-color: #d4ebff;}#sk-container-id-11 input.sk-hidden--visually {border: 0;clip: rect(1px 1px 1px 1px);clip: rect(1px, 1px, 1px, 1px);height: 1px;margin: -1px;overflow: hidden;padding: 0;position: absolute;width: 1px;}#sk-container-id-11 div.sk-estimator {font-family: monospace;background-color: #f0f8ff;border: 1px dotted black;border-radius: 0.25em;box-sizing: border-box;margin-bottom: 0.5em;}#sk-container-id-11 div.sk-estimator:hover {background-color: #d4ebff;}#sk-container-id-11 div.sk-parallel-item::after {content: \"\";width: 100%;border-bottom: 1px solid gray;flex-grow: 1;}#sk-container-id-11 div.sk-label:hover label.sk-toggleable__label {background-color: #d4ebff;}#sk-container-id-11 div.sk-serial::before {content: \"\";position: absolute;border-left: 1px solid gray;box-sizing: border-box;top: 0;bottom: 0;left: 50%;z-index: 0;}#sk-container-id-11 div.sk-serial {display: flex;flex-direction: column;align-items: center;background-color: white;padding-right: 0.2em;padding-left: 0.2em;position: relative;}#sk-container-id-11 div.sk-item {position: relative;z-index: 1;}#sk-container-id-11 div.sk-parallel {display: flex;align-items: stretch;justify-content: center;background-color: white;position: relative;}#sk-container-id-11 div.sk-item::before, #sk-container-id-11 div.sk-parallel-item::before {content: \"\";position: absolute;border-left: 1px solid gray;box-sizing: border-box;top: 0;bottom: 0;left: 50%;z-index: -1;}#sk-container-id-11 div.sk-parallel-item {display: flex;flex-direction: column;z-index: 1;position: relative;background-color: white;}#sk-container-id-11 div.sk-parallel-item:first-child::after {align-self: flex-end;width: 50%;}#sk-container-id-11 div.sk-parallel-item:last-child::after {align-self: flex-start;width: 50%;}#sk-container-id-11 div.sk-parallel-item:only-child::after {width: 0;}#sk-container-id-11 div.sk-dashed-wrapped {border: 1px dashed gray;margin: 0 0.4em 0.5em 0.4em;box-sizing: border-box;padding-bottom: 0.4em;background-color: white;}#sk-container-id-11 div.sk-label label {font-family: monospace;font-weight: bold;display: inline-block;line-height: 1.2em;}#sk-container-id-11 div.sk-label-container {text-align: center;}#sk-container-id-11 div.sk-container {/* jupyter's `normalize.less` sets `[hidden] { display: none; }` but bootstrap.min.css set `[hidden] { display: none !important; }` so we also need the `!important` here to be able to override the default hidden behavior on the sphinx rendered scikit-learn.org. See: https://github.com/scikit-learn/scikit-learn/issues/21755 */display: inline-block !important;position: relative;}#sk-container-id-11 div.sk-text-repr-fallback {display: none;}</style><div id=\"sk-container-id-11\" class=\"sk-top-container\"><div class=\"sk-text-repr-fallback\"><pre>Pipeline(steps=[(&#x27;preprocess&#x27;,\n",
              "                 ColumnTransformer(transformers=[(&#x27;num&#x27;, RobustScaler(),\n",
              "                                                  [&#x27;Model Year&#x27;, &#x27;Mileage&#x27;,\n",
              "                                                   &#x27;Engine Capacity&#x27;]),\n",
              "                                                 (&#x27;cat&#x27;,\n",
              "                                                  OneHotEncoder(handle_unknown=&#x27;ignore&#x27;),\n",
              "                                                  [&#x27;Company Name&#x27;,\n",
              "                                                   &#x27;Engine Type&#x27;, &#x27;Assembly&#x27;,\n",
              "                                                   &#x27;Body Type&#x27;,\n",
              "                                                   &#x27;Transmission Type&#x27;,\n",
              "                                                   &#x27;Registration Status&#x27;])])),\n",
              "                (&#x27;model&#x27;,\n",
              "                 RandomForestRegressor(max_depth=8, n_estimators=250))])</pre><b>In a Jupyter environment, please rerun this cell to show the HTML representation or trust the notebook. <br />On GitHub, the HTML representation is unable to render, please try loading this page with nbviewer.org.</b></div><div class=\"sk-container\" hidden><div class=\"sk-item sk-dashed-wrapped\"><div class=\"sk-label-container\"><div class=\"sk-label sk-toggleable\"><input class=\"sk-toggleable__control sk-hidden--visually\" id=\"sk-estimator-id-56\" type=\"checkbox\" ><label for=\"sk-estimator-id-56\" class=\"sk-toggleable__label sk-toggleable__label-arrow\">Pipeline</label><div class=\"sk-toggleable__content\"><pre>Pipeline(steps=[(&#x27;preprocess&#x27;,\n",
              "                 ColumnTransformer(transformers=[(&#x27;num&#x27;, RobustScaler(),\n",
              "                                                  [&#x27;Model Year&#x27;, &#x27;Mileage&#x27;,\n",
              "                                                   &#x27;Engine Capacity&#x27;]),\n",
              "                                                 (&#x27;cat&#x27;,\n",
              "                                                  OneHotEncoder(handle_unknown=&#x27;ignore&#x27;),\n",
              "                                                  [&#x27;Company Name&#x27;,\n",
              "                                                   &#x27;Engine Type&#x27;, &#x27;Assembly&#x27;,\n",
              "                                                   &#x27;Body Type&#x27;,\n",
              "                                                   &#x27;Transmission Type&#x27;,\n",
              "                                                   &#x27;Registration Status&#x27;])])),\n",
              "                (&#x27;model&#x27;,\n",
              "                 RandomForestRegressor(max_depth=8, n_estimators=250))])</pre></div></div></div><div class=\"sk-serial\"><div class=\"sk-item sk-dashed-wrapped\"><div class=\"sk-label-container\"><div class=\"sk-label sk-toggleable\"><input class=\"sk-toggleable__control sk-hidden--visually\" id=\"sk-estimator-id-57\" type=\"checkbox\" ><label for=\"sk-estimator-id-57\" class=\"sk-toggleable__label sk-toggleable__label-arrow\">preprocess: ColumnTransformer</label><div class=\"sk-toggleable__content\"><pre>ColumnTransformer(transformers=[(&#x27;num&#x27;, RobustScaler(),\n",
              "                                 [&#x27;Model Year&#x27;, &#x27;Mileage&#x27;, &#x27;Engine Capacity&#x27;]),\n",
              "                                (&#x27;cat&#x27;, OneHotEncoder(handle_unknown=&#x27;ignore&#x27;),\n",
              "                                 [&#x27;Company Name&#x27;, &#x27;Engine Type&#x27;, &#x27;Assembly&#x27;,\n",
              "                                  &#x27;Body Type&#x27;, &#x27;Transmission Type&#x27;,\n",
              "                                  &#x27;Registration Status&#x27;])])</pre></div></div></div><div class=\"sk-parallel\"><div class=\"sk-parallel-item\"><div class=\"sk-item\"><div class=\"sk-label-container\"><div class=\"sk-label sk-toggleable\"><input class=\"sk-toggleable__control sk-hidden--visually\" id=\"sk-estimator-id-58\" type=\"checkbox\" ><label for=\"sk-estimator-id-58\" class=\"sk-toggleable__label sk-toggleable__label-arrow\">num</label><div class=\"sk-toggleable__content\"><pre>[&#x27;Model Year&#x27;, &#x27;Mileage&#x27;, &#x27;Engine Capacity&#x27;]</pre></div></div></div><div class=\"sk-serial\"><div class=\"sk-item\"><div class=\"sk-estimator sk-toggleable\"><input class=\"sk-toggleable__control sk-hidden--visually\" id=\"sk-estimator-id-59\" type=\"checkbox\" ><label for=\"sk-estimator-id-59\" class=\"sk-toggleable__label sk-toggleable__label-arrow\">RobustScaler</label><div class=\"sk-toggleable__content\"><pre>RobustScaler()</pre></div></div></div></div></div></div><div class=\"sk-parallel-item\"><div class=\"sk-item\"><div class=\"sk-label-container\"><div class=\"sk-label sk-toggleable\"><input class=\"sk-toggleable__control sk-hidden--visually\" id=\"sk-estimator-id-60\" type=\"checkbox\" ><label for=\"sk-estimator-id-60\" class=\"sk-toggleable__label sk-toggleable__label-arrow\">cat</label><div class=\"sk-toggleable__content\"><pre>[&#x27;Company Name&#x27;, &#x27;Engine Type&#x27;, &#x27;Assembly&#x27;, &#x27;Body Type&#x27;, &#x27;Transmission Type&#x27;, &#x27;Registration Status&#x27;]</pre></div></div></div><div class=\"sk-serial\"><div class=\"sk-item\"><div class=\"sk-estimator sk-toggleable\"><input class=\"sk-toggleable__control sk-hidden--visually\" id=\"sk-estimator-id-61\" type=\"checkbox\" ><label for=\"sk-estimator-id-61\" class=\"sk-toggleable__label sk-toggleable__label-arrow\">OneHotEncoder</label><div class=\"sk-toggleable__content\"><pre>OneHotEncoder(handle_unknown=&#x27;ignore&#x27;)</pre></div></div></div></div></div></div></div></div><div class=\"sk-item\"><div class=\"sk-estimator sk-toggleable\"><input class=\"sk-toggleable__control sk-hidden--visually\" id=\"sk-estimator-id-62\" type=\"checkbox\" ><label for=\"sk-estimator-id-62\" class=\"sk-toggleable__label sk-toggleable__label-arrow\">RandomForestRegressor</label><div class=\"sk-toggleable__content\"><pre>RandomForestRegressor(max_depth=8, n_estimators=250)</pre></div></div></div></div></div></div></div>"
            ],
            "text/plain": [
              "Pipeline(steps=[('preprocess',\n",
              "                 ColumnTransformer(transformers=[('num', RobustScaler(),\n",
              "                                                  ['Model Year', 'Mileage',\n",
              "                                                   'Engine Capacity']),\n",
              "                                                 ('cat',\n",
              "                                                  OneHotEncoder(handle_unknown='ignore'),\n",
              "                                                  ['Company Name',\n",
              "                                                   'Engine Type', 'Assembly',\n",
              "                                                   'Body Type',\n",
              "                                                   'Transmission Type',\n",
              "                                                   'Registration Status'])])),\n",
              "                ('model',\n",
              "                 RandomForestRegressor(max_depth=8, n_estimators=250))])"
            ]
          },
          "execution_count": 226,
          "metadata": {},
          "output_type": "execute_result"
        }
      ],
      "source": [
        "grid_best = grid.best_estimator_\n",
        "grid_best"
      ]
    },
    {
      "cell_type": "code",
      "execution_count": 227,
      "metadata": {
        "colab": {
          "base_uri": "https://localhost:8080/"
        },
        "id": "iqhsG3-szoil",
        "outputId": "1dcb8c18-6f05-498d-e882-50befe9c04e3"
      },
      "outputs": [
        {
          "data": {
            "text/plain": [
              "{'preprocess__num': RobustScaler(),\n",
              " 'preprocess__cat': OneHotEncoder(handle_unknown='ignore'),\n",
              " 'model__n_estimators': 250,\n",
              " 'model__max_depth': 8,\n",
              " 'model': RandomForestRegressor(max_depth=8, n_estimators=250)}"
            ]
          },
          "execution_count": 227,
          "metadata": {},
          "output_type": "execute_result"
        }
      ],
      "source": [
        "grid.best_params_"
      ]
    },
    {
      "cell_type": "markdown",
      "metadata": {},
      "source": [
        "didapatkan dari hyperpaameter tunning model yang paling bagus adalah RandomForestRegressor dengan scaler adalah RobustScaler dan encode didapatkan OnehotEncoder"
      ]
    },
    {
      "cell_type": "markdown",
      "metadata": {},
      "source": [
        "# **Model Evaluation**"
      ]
    },
    {
      "cell_type": "markdown",
      "metadata": {},
      "source": [
        "melakukan predict dengan model terbaik yang sudah disimpan dari hyperparameter tunning"
      ]
    },
    {
      "cell_type": "code",
      "execution_count": 228,
      "metadata": {
        "colab": {
          "base_uri": "https://localhost:8080/"
        },
        "id": "JCqx0htzzsQ6",
        "outputId": "2176041c-30c2-4dbc-a6a4-53e6521fdfb0"
      },
      "outputs": [
        {
          "name": "stdout",
          "output_type": "stream",
          "text": [
            "==================== TRAINING ====================\n",
            "Mean absolute error: 288091.3380199899\n",
            "R2 Score: 0.9210336002491265\n",
            "\n",
            "\n",
            "==================== TEST ====================\n",
            "Mean absolute error: 368729.6987326847\n",
            "R2 Score: 0.857946821906135\n"
          ]
        }
      ],
      "source": [
        "y_train_pred = grid.predict(X_train)\n",
        "y_test_pred = grid.predict(X_test)\n",
        "\n",
        "print(\"=\"*20,\"TRAINING\",\"=\"*20)\n",
        "print(\"Mean absolute error:\",mean_absolute_error(y_train,y_train_pred))\n",
        "print(\"R2 Score:\",r2_score(y_train,y_train_pred))\n",
        "print(\"\\n\")\n",
        "print(\"=\"*20,\"TEST\",\"=\"*20)\n",
        "print(\"Mean absolute error:\",mean_absolute_error(y_test,y_test_pred))\n",
        "print(\"R2 Score:\",r2_score(y_test,y_test_pred))"
      ]
    },
    {
      "cell_type": "markdown",
      "metadata": {},
      "source": [
        "# **Model Saving**"
      ]
    },
    {
      "cell_type": "markdown",
      "metadata": {},
      "source": [
        "melakukan saving model yang terbaik setelah melakukan hyperparameter tunning"
      ]
    },
    {
      "cell_type": "code",
      "execution_count": 229,
      "metadata": {},
      "outputs": [],
      "source": [
        "# Menyimpan objek 'model_knn' ke dalam berkas 'model_knn.pkl' menggunakan modul 'pickle'\n",
        "with open('model_grid.pkl', 'wb') as file_1:\n",
        "    pickle.dump(grid_best, file_1)"
      ]
    },
    {
      "cell_type": "markdown",
      "metadata": {},
      "source": [
        "# **Model Inference**"
      ]
    },
    {
      "cell_type": "markdown",
      "metadata": {},
      "source": [
        "model inference ada di notebook yang lain"
      ]
    },
    {
      "cell_type": "markdown",
      "metadata": {},
      "source": [
        "# **Kesimpulan**"
      ]
    },
    {
      "cell_type": "markdown",
      "metadata": {},
      "source": [
        "kesimpulan yang didapat adalah setelah melakukan hyperparameter tunning didapatkan hasil scaling terbaik menggunakan robustscaler utuk encoding menggunakan onehotencoding dan untuk model didapatkan yang terbaik adalah RandomForestRegressor. untuk training didapatkan ketepatan model adalah 92% dan untuk test 85%."
      ]
    },
    {
      "cell_type": "markdown",
      "metadata": {},
      "source": [
        "The conclusion that was obtained was that after carrying out hyperparameter tuning, the best scaling results were obtained using a robustscaler for encoding using OneHotencoding and for the model, the best was RandomForestRegressor. For training, the model accuracy was 92% and for testing 85%.\n"
      ]
    },
    {
      "cell_type": "markdown",
      "metadata": {},
      "source": [
        "# **Conceptual Problem**"
      ]
    },
    {
      "cell_type": "markdown",
      "metadata": {},
      "source": [
        "**1. Jelaskan latar belakang adanya bagging dan cara kerja bagging !** adalah salah satu teknik ensemble learning yang digunakan dalam machine learning untuk meningkatkan kinerja model prediksi. Latar belakang adanya bagging adalah untuk mengurangi varians (overfitting) dalam model prediks\n",
        "\n",
        "**2. Jelaskan perbedaan cara kerja algoritma Random Forest dengan algoritma boosting yang Anda pilih !**\n",
        "\n",
        "    - Forest menggunakan teknik Bagging (Bootstrap Aggregating) untuk menghasilkan beberapa pohon keputusan yang independen. Setiap pohon keputusan dibangun dengan subsample acak dari data pelatihan dan variabel prediktor yang dipilih secara acak.\n",
        "    \n",
        "    - Boosting menggabungkan serangkaian model basis secara berurutan. Setiap model baru dibangun untuk memperbaiki kesalahan model sebelumnya. Pada setiap iterasi, bobot diberikan kepada sampel yang salah dikelasifikasi oleh model sebelumnya.\n",
        "\n",
        "**3. Jelaskan apa yang dimaksud dengan Cross Validation !** adalah sebuah teknik dalam pembelajaran mesin yang digunakan untuk mengevaluasi kinerja model secara objektif dan mengurangi risiko overfitting."
      ]
    }
  ],
  "metadata": {
    "colab": {
      "provenance": []
    },
    "kernelspec": {
      "display_name": "Python 3",
      "name": "python3"
    },
    "language_info": {
      "codemirror_mode": {
        "name": "ipython",
        "version": 3
      },
      "file_extension": ".py",
      "mimetype": "text/x-python",
      "name": "python",
      "nbconvert_exporter": "python",
      "pygments_lexer": "ipython3",
      "version": "3.11.5"
    }
  },
  "nbformat": 4,
  "nbformat_minor": 0
}
