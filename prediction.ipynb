{
 "cells": [
  {
   "cell_type": "code",
   "execution_count": 3,
   "metadata": {},
   "outputs": [],
   "source": [
    "import pickle\n",
    "import pandas as pd"
   ]
  },
  {
   "cell_type": "markdown",
   "metadata": {},
   "source": [
    "memuat model yang sudah disimpan"
   ]
  },
  {
   "cell_type": "code",
   "execution_count": 2,
   "metadata": {},
   "outputs": [],
   "source": [
    "# Model loading\n",
    "with open('model_grid.pkl', 'rb') as file_load:\n",
    "    model = pickle.load(file_load)"
   ]
  },
  {
   "cell_type": "markdown",
   "metadata": {},
   "source": [
    "membuat data untuk prediksi"
   ]
  },
  {
   "cell_type": "code",
   "execution_count": 4,
   "metadata": {},
   "outputs": [
    {
     "data": {
      "text/html": [
       "<div>\n",
       "<style scoped>\n",
       "    .dataframe tbody tr th:only-of-type {\n",
       "        vertical-align: middle;\n",
       "    }\n",
       "\n",
       "    .dataframe tbody tr th {\n",
       "        vertical-align: top;\n",
       "    }\n",
       "\n",
       "    .dataframe thead th {\n",
       "        text-align: right;\n",
       "    }\n",
       "</style>\n",
       "<table border=\"1\" class=\"dataframe\">\n",
       "  <thead>\n",
       "    <tr style=\"text-align: right;\">\n",
       "      <th></th>\n",
       "      <th>Company Name</th>\n",
       "      <th>Model Year</th>\n",
       "      <th>Mileage</th>\n",
       "      <th>Engine Type</th>\n",
       "      <th>Engine Capacity</th>\n",
       "      <th>Assembly</th>\n",
       "      <th>Body Type</th>\n",
       "      <th>Transmission Type</th>\n",
       "      <th>Registration Status</th>\n",
       "    </tr>\n",
       "  </thead>\n",
       "  <tbody>\n",
       "    <tr>\n",
       "      <th>0</th>\n",
       "      <td>Toyota</td>\n",
       "      <td>2014</td>\n",
       "      <td>76000.0</td>\n",
       "      <td>Petrol</td>\n",
       "      <td>1750.0</td>\n",
       "      <td>Local</td>\n",
       "      <td>SUV</td>\n",
       "      <td>Automatic</td>\n",
       "      <td>Registered</td>\n",
       "    </tr>\n",
       "  </tbody>\n",
       "</table>\n",
       "</div>"
      ],
      "text/plain": [
       "  Company Name  Model Year  Mileage Engine Type  Engine Capacity Assembly  \\\n",
       "0       Toyota        2014  76000.0      Petrol           1750.0    Local   \n",
       "\n",
       "  Body Type Transmission Type Registration Status  \n",
       "0       SUV         Automatic          Registered  "
      ]
     },
     "execution_count": 4,
     "metadata": {},
     "output_type": "execute_result"
    }
   ],
   "source": [
    "# Membuat Data Baru\n",
    "data_inf = {\n",
    "    \"Company Name\": ['Toyota'],\n",
    "    \"Model Year\": [2014],\n",
    "    \"Mileage\": [76000.0],\n",
    "    \"Engine Type\": ['Petrol'],\n",
    "    \"Engine Capacity\": [1750.0],\n",
    "    \"Assembly\": ['Local'],\n",
    "    \"Body Type\": ['SUV'],\n",
    "    \"Transmission Type\": ['Automatic'],\n",
    "    \"Registration Status\": ['Registered']\n",
    "}\n",
    "\n",
    "# Membuat DataFrame dari data baru\n",
    "data_in = pd.DataFrame(data_inf)\n",
    "\n",
    "# Menampilkan data baru\n",
    "data_in"
   ]
  },
  {
   "cell_type": "code",
   "execution_count": 5,
   "metadata": {},
   "outputs": [
    {
     "data": {
      "text/plain": [
       "array([5410665.24282832])"
      ]
     },
     "execution_count": 5,
     "metadata": {},
     "output_type": "execute_result"
    }
   ],
   "source": [
    "# Predict\n",
    "y_inf_pred = model.predict(data_in)\n",
    "y_inf_pred"
   ]
  },
  {
   "cell_type": "markdown",
   "metadata": {},
   "source": [
    "terlihat sudah bisa memprediksi harga mobil"
   ]
  }
 ],
 "metadata": {
  "kernelspec": {
   "display_name": "jalan1",
   "language": "python",
   "name": "python3"
  },
  "language_info": {
   "codemirror_mode": {
    "name": "ipython",
    "version": 3
   },
   "file_extension": ".py",
   "mimetype": "text/x-python",
   "name": "python",
   "nbconvert_exporter": "python",
   "pygments_lexer": "ipython3",
   "version": "3.11.5"
  }
 },
 "nbformat": 4,
 "nbformat_minor": 2
}
